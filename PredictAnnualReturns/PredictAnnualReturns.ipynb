{
 "cells": [
  {
   "cell_type": "markdown",
   "metadata": {},
   "source": [
    "# PREDICT ANNUAL RETURNS"
   ]
  },
  {
   "cell_type": "code",
   "execution_count": 43,
   "metadata": {},
   "outputs": [],
   "source": [
    "import numpy as np\n",
    "import pandas as pd\n",
    "import xgboost as xgb\n",
    "from sklearn.metrics import r2_score\n",
    "from IPython.display import FileLink\n",
    "import matplotlib.pyplot as plt\n",
    "%matplotlib inline"
   ]
  },
  {
   "cell_type": "code",
   "execution_count": 44,
   "metadata": {},
   "outputs": [],
   "source": [
    "TrainDataPath = './BW2017Data/train.csv'\n",
    "TestDataPath = './BW2017Data/test.csv'\n",
    "\n",
    "# Loading the Training and Test Dataset\n",
    "TrainData = pd.read_csv(TrainDataPath)\n",
    "TestData = pd.read_csv(TestDataPath)"
   ]
  },
  {
   "cell_type": "markdown",
   "metadata": {},
   "source": [
    "# Exploring The Dataset"
   ]
  },
  {
   "cell_type": "code",
   "execution_count": 45,
   "metadata": {},
   "outputs": [
    {
     "name": "stdout",
     "output_type": "stream",
     "text": [
      "Training Dataset Shape:\n",
      "(9366, 18)\n",
      "\n",
      "\n",
      "Training Dataset Columns/Features:\n",
      "portfolio_id       object\n",
      "desk_id            object\n",
      "office_id          object\n",
      "pf_category        object\n",
      "start_date          int64\n",
      "sold              float64\n",
      "country_code       object\n",
      "euribor_rate      float64\n",
      "currency           object\n",
      "libor_rate        float64\n",
      "bought            float64\n",
      "creation_date       int64\n",
      "indicator_code     object\n",
      "sell_date           int64\n",
      "type               object\n",
      "hedge_value        object\n",
      "status             object\n",
      "return            float64\n",
      "dtype: object\n"
     ]
    },
    {
     "data": {
      "text/html": [
       "<div>\n",
       "<style>\n",
       "    .dataframe thead tr:only-child th {\n",
       "        text-align: right;\n",
       "    }\n",
       "\n",
       "    .dataframe thead th {\n",
       "        text-align: left;\n",
       "    }\n",
       "\n",
       "    .dataframe tbody tr th {\n",
       "        vertical-align: top;\n",
       "    }\n",
       "</style>\n",
       "<table border=\"1\" class=\"dataframe\">\n",
       "  <thead>\n",
       "    <tr style=\"text-align: right;\">\n",
       "      <th></th>\n",
       "      <th>portfolio_id</th>\n",
       "      <th>desk_id</th>\n",
       "      <th>office_id</th>\n",
       "      <th>pf_category</th>\n",
       "      <th>start_date</th>\n",
       "      <th>sold</th>\n",
       "      <th>country_code</th>\n",
       "      <th>euribor_rate</th>\n",
       "      <th>currency</th>\n",
       "      <th>libor_rate</th>\n",
       "      <th>bought</th>\n",
       "      <th>creation_date</th>\n",
       "      <th>indicator_code</th>\n",
       "      <th>sell_date</th>\n",
       "      <th>type</th>\n",
       "      <th>hedge_value</th>\n",
       "      <th>status</th>\n",
       "      <th>return</th>\n",
       "    </tr>\n",
       "  </thead>\n",
       "  <tbody>\n",
       "    <tr>\n",
       "      <th>0</th>\n",
       "      <td>PF00001002</td>\n",
       "      <td>DSK00001001</td>\n",
       "      <td>OFF00001002</td>\n",
       "      <td>B</td>\n",
       "      <td>20040720</td>\n",
       "      <td>110000000.0</td>\n",
       "      <td>T</td>\n",
       "      <td>0.02074</td>\n",
       "      <td>USD</td>\n",
       "      <td>2.332216</td>\n",
       "      <td>1.098097e+08</td>\n",
       "      <td>20040720</td>\n",
       "      <td>NaN</td>\n",
       "      <td>20040812</td>\n",
       "      <td>B</td>\n",
       "      <td>NaN</td>\n",
       "      <td>NaN</td>\n",
       "      <td>0.02496</td>\n",
       "    </tr>\n",
       "    <tr>\n",
       "      <th>1</th>\n",
       "      <td>PF00001003</td>\n",
       "      <td>DSK00001002</td>\n",
       "      <td>OFF00001001</td>\n",
       "      <td>A</td>\n",
       "      <td>20040709</td>\n",
       "      <td>176671000.0</td>\n",
       "      <td>N</td>\n",
       "      <td>0.02074</td>\n",
       "      <td>GBP</td>\n",
       "      <td>5.269617</td>\n",
       "      <td>1.760084e+08</td>\n",
       "      <td>20040723</td>\n",
       "      <td>NaN</td>\n",
       "      <td>20040812</td>\n",
       "      <td>C</td>\n",
       "      <td>NaN</td>\n",
       "      <td>NaN</td>\n",
       "      <td>0.05496</td>\n",
       "    </tr>\n",
       "    <tr>\n",
       "      <th>2</th>\n",
       "      <td>PF00001005</td>\n",
       "      <td>DSK00001004</td>\n",
       "      <td>OFF00001001</td>\n",
       "      <td>A</td>\n",
       "      <td>20040723</td>\n",
       "      <td>56474000.0</td>\n",
       "      <td>T</td>\n",
       "      <td>0.02074</td>\n",
       "      <td>USD</td>\n",
       "      <td>2.332216</td>\n",
       "      <td>5.637953e+07</td>\n",
       "      <td>20040723</td>\n",
       "      <td>NaN</td>\n",
       "      <td>20040817</td>\n",
       "      <td>A</td>\n",
       "      <td>NaN</td>\n",
       "      <td>NaN</td>\n",
       "      <td>0.02496</td>\n",
       "    </tr>\n",
       "    <tr>\n",
       "      <th>3</th>\n",
       "      <td>PF00001006</td>\n",
       "      <td>DSK00001005</td>\n",
       "      <td>OFF00001001</td>\n",
       "      <td>A</td>\n",
       "      <td>20040609</td>\n",
       "      <td>164813000.0</td>\n",
       "      <td>T</td>\n",
       "      <td>0.02074</td>\n",
       "      <td>USD</td>\n",
       "      <td>2.332216</td>\n",
       "      <td>1.645088e+08</td>\n",
       "      <td>20040723</td>\n",
       "      <td>NaN</td>\n",
       "      <td>20040713</td>\n",
       "      <td>A</td>\n",
       "      <td>NaN</td>\n",
       "      <td>NaN</td>\n",
       "      <td>0.02496</td>\n",
       "    </tr>\n",
       "    <tr>\n",
       "      <th>4</th>\n",
       "      <td>PF00001007</td>\n",
       "      <td>DSK00001005</td>\n",
       "      <td>OFF00001002</td>\n",
       "      <td>B</td>\n",
       "      <td>20040609</td>\n",
       "      <td>140800000.0</td>\n",
       "      <td>T</td>\n",
       "      <td>0.02074</td>\n",
       "      <td>USD</td>\n",
       "      <td>2.332216</td>\n",
       "      <td>1.405402e+08</td>\n",
       "      <td>20040723</td>\n",
       "      <td>NaN</td>\n",
       "      <td>20040713</td>\n",
       "      <td>B</td>\n",
       "      <td>NaN</td>\n",
       "      <td>NaN</td>\n",
       "      <td>0.02496</td>\n",
       "    </tr>\n",
       "  </tbody>\n",
       "</table>\n",
       "</div>"
      ],
      "text/plain": [
       "  portfolio_id      desk_id    office_id pf_category  start_date         sold  \\\n",
       "0   PF00001002  DSK00001001  OFF00001002           B    20040720  110000000.0   \n",
       "1   PF00001003  DSK00001002  OFF00001001           A    20040709  176671000.0   \n",
       "2   PF00001005  DSK00001004  OFF00001001           A    20040723   56474000.0   \n",
       "3   PF00001006  DSK00001005  OFF00001001           A    20040609  164813000.0   \n",
       "4   PF00001007  DSK00001005  OFF00001002           B    20040609  140800000.0   \n",
       "\n",
       "  country_code  euribor_rate currency  libor_rate        bought  \\\n",
       "0            T       0.02074      USD    2.332216  1.098097e+08   \n",
       "1            N       0.02074      GBP    5.269617  1.760084e+08   \n",
       "2            T       0.02074      USD    2.332216  5.637953e+07   \n",
       "3            T       0.02074      USD    2.332216  1.645088e+08   \n",
       "4            T       0.02074      USD    2.332216  1.405402e+08   \n",
       "\n",
       "   creation_date indicator_code  sell_date type hedge_value status   return  \n",
       "0       20040720            NaN   20040812    B         NaN    NaN  0.02496  \n",
       "1       20040723            NaN   20040812    C         NaN    NaN  0.05496  \n",
       "2       20040723            NaN   20040817    A         NaN    NaN  0.02496  \n",
       "3       20040723            NaN   20040713    A         NaN    NaN  0.02496  \n",
       "4       20040723            NaN   20040713    B         NaN    NaN  0.02496  "
      ]
     },
     "execution_count": 45,
     "metadata": {},
     "output_type": "execute_result"
    }
   ],
   "source": [
    "print(\"Training Dataset Shape:\")\n",
    "print(TrainData.shape)\n",
    "print(\"\\n\")\n",
    "print(\"Training Dataset Columns/Features:\")\n",
    "print(TrainData.dtypes)\n",
    "TrainData.head()"
   ]
  },
  {
   "cell_type": "code",
   "execution_count": 46,
   "metadata": {},
   "outputs": [
    {
     "name": "stdout",
     "output_type": "stream",
     "text": [
      "Test Dataset Shape:\n",
      "(4801, 17)\n",
      "\n",
      "\n",
      "Test Dataset Columns/Features:\n",
      "portfolio_id       object\n",
      "desk_id            object\n",
      "office_id          object\n",
      "pf_category        object\n",
      "start_date          int64\n",
      "sold              float64\n",
      "country_code       object\n",
      "euribor_rate      float64\n",
      "currency           object\n",
      "libor_rate        float64\n",
      "bought            float64\n",
      "creation_date       int64\n",
      "indicator_code     object\n",
      "sell_date           int64\n",
      "type               object\n",
      "hedge_value        object\n",
      "status             object\n",
      "dtype: object\n"
     ]
    },
    {
     "data": {
      "text/html": [
       "<div>\n",
       "<style>\n",
       "    .dataframe thead tr:only-child th {\n",
       "        text-align: right;\n",
       "    }\n",
       "\n",
       "    .dataframe thead th {\n",
       "        text-align: left;\n",
       "    }\n",
       "\n",
       "    .dataframe tbody tr th {\n",
       "        vertical-align: top;\n",
       "    }\n",
       "</style>\n",
       "<table border=\"1\" class=\"dataframe\">\n",
       "  <thead>\n",
       "    <tr style=\"text-align: right;\">\n",
       "      <th></th>\n",
       "      <th>portfolio_id</th>\n",
       "      <th>desk_id</th>\n",
       "      <th>office_id</th>\n",
       "      <th>pf_category</th>\n",
       "      <th>start_date</th>\n",
       "      <th>sold</th>\n",
       "      <th>country_code</th>\n",
       "      <th>euribor_rate</th>\n",
       "      <th>currency</th>\n",
       "      <th>libor_rate</th>\n",
       "      <th>bought</th>\n",
       "      <th>creation_date</th>\n",
       "      <th>indicator_code</th>\n",
       "      <th>sell_date</th>\n",
       "      <th>type</th>\n",
       "      <th>hedge_value</th>\n",
       "      <th>status</th>\n",
       "    </tr>\n",
       "  </thead>\n",
       "  <tbody>\n",
       "    <tr>\n",
       "      <th>0</th>\n",
       "      <td>PF00001001</td>\n",
       "      <td>DSK00001001</td>\n",
       "      <td>OFF00001001</td>\n",
       "      <td>A</td>\n",
       "      <td>20040720</td>\n",
       "      <td>171831000.0</td>\n",
       "      <td>T</td>\n",
       "      <td>0.02074</td>\n",
       "      <td>USD</td>\n",
       "      <td>2.332216</td>\n",
       "      <td>1.715337e+08</td>\n",
       "      <td>20040720</td>\n",
       "      <td>NaN</td>\n",
       "      <td>20040812</td>\n",
       "      <td>A</td>\n",
       "      <td>NaN</td>\n",
       "      <td>NaN</td>\n",
       "    </tr>\n",
       "    <tr>\n",
       "      <th>1</th>\n",
       "      <td>PF00001004</td>\n",
       "      <td>DSK00001003</td>\n",
       "      <td>OFF00001002</td>\n",
       "      <td>B</td>\n",
       "      <td>20040723</td>\n",
       "      <td>56485000.0</td>\n",
       "      <td>T</td>\n",
       "      <td>0.02074</td>\n",
       "      <td>USD</td>\n",
       "      <td>2.332216</td>\n",
       "      <td>5.638038e+07</td>\n",
       "      <td>20040723</td>\n",
       "      <td>NaN</td>\n",
       "      <td>20040719</td>\n",
       "      <td>B</td>\n",
       "      <td>NaN</td>\n",
       "      <td>NaN</td>\n",
       "    </tr>\n",
       "    <tr>\n",
       "      <th>2</th>\n",
       "      <td>PF00001009</td>\n",
       "      <td>DSK00001007</td>\n",
       "      <td>OFF00001001</td>\n",
       "      <td>A</td>\n",
       "      <td>20040607</td>\n",
       "      <td>41734000.0</td>\n",
       "      <td>T</td>\n",
       "      <td>0.02074</td>\n",
       "      <td>USD</td>\n",
       "      <td>2.332216</td>\n",
       "      <td>4.166179e+07</td>\n",
       "      <td>20040726</td>\n",
       "      <td>NaN</td>\n",
       "      <td>20040709</td>\n",
       "      <td>A</td>\n",
       "      <td>NaN</td>\n",
       "      <td>NaN</td>\n",
       "    </tr>\n",
       "    <tr>\n",
       "      <th>3</th>\n",
       "      <td>PF00001013</td>\n",
       "      <td>DSK00001011</td>\n",
       "      <td>OFF00001001</td>\n",
       "      <td>A</td>\n",
       "      <td>20040716</td>\n",
       "      <td>82951000.0</td>\n",
       "      <td>T</td>\n",
       "      <td>0.02074</td>\n",
       "      <td>USD</td>\n",
       "      <td>2.332216</td>\n",
       "      <td>8.250936e+07</td>\n",
       "      <td>20040726</td>\n",
       "      <td>NaN</td>\n",
       "      <td>20041019</td>\n",
       "      <td>A</td>\n",
       "      <td>NaN</td>\n",
       "      <td>NaN</td>\n",
       "    </tr>\n",
       "    <tr>\n",
       "      <th>4</th>\n",
       "      <td>PF00001014</td>\n",
       "      <td>DSK00001012</td>\n",
       "      <td>OFF00001001</td>\n",
       "      <td>A</td>\n",
       "      <td>20040713</td>\n",
       "      <td>73293000.0</td>\n",
       "      <td>T</td>\n",
       "      <td>0.02074</td>\n",
       "      <td>USD</td>\n",
       "      <td>2.332216</td>\n",
       "      <td>7.317055e+07</td>\n",
       "      <td>20040726</td>\n",
       "      <td>NaN</td>\n",
       "      <td>20040813</td>\n",
       "      <td>A</td>\n",
       "      <td>NaN</td>\n",
       "      <td>NaN</td>\n",
       "    </tr>\n",
       "  </tbody>\n",
       "</table>\n",
       "</div>"
      ],
      "text/plain": [
       "  portfolio_id      desk_id    office_id pf_category  start_date         sold  \\\n",
       "0   PF00001001  DSK00001001  OFF00001001           A    20040720  171831000.0   \n",
       "1   PF00001004  DSK00001003  OFF00001002           B    20040723   56485000.0   \n",
       "2   PF00001009  DSK00001007  OFF00001001           A    20040607   41734000.0   \n",
       "3   PF00001013  DSK00001011  OFF00001001           A    20040716   82951000.0   \n",
       "4   PF00001014  DSK00001012  OFF00001001           A    20040713   73293000.0   \n",
       "\n",
       "  country_code  euribor_rate currency  libor_rate        bought  \\\n",
       "0            T       0.02074      USD    2.332216  1.715337e+08   \n",
       "1            T       0.02074      USD    2.332216  5.638038e+07   \n",
       "2            T       0.02074      USD    2.332216  4.166179e+07   \n",
       "3            T       0.02074      USD    2.332216  8.250936e+07   \n",
       "4            T       0.02074      USD    2.332216  7.317055e+07   \n",
       "\n",
       "   creation_date indicator_code  sell_date type hedge_value status  \n",
       "0       20040720            NaN   20040812    A         NaN    NaN  \n",
       "1       20040723            NaN   20040719    B         NaN    NaN  \n",
       "2       20040726            NaN   20040709    A         NaN    NaN  \n",
       "3       20040726            NaN   20041019    A         NaN    NaN  \n",
       "4       20040726            NaN   20040813    A         NaN    NaN  "
      ]
     },
     "execution_count": 46,
     "metadata": {},
     "output_type": "execute_result"
    }
   ],
   "source": [
    "print(\"Test Dataset Shape:\")\n",
    "print(TestData.shape)\n",
    "print(\"\\n\")\n",
    "print(\"Test Dataset Columns/Features:\")\n",
    "print(TestData.dtypes)\n",
    "TestData.head()"
   ]
  },
  {
   "cell_type": "code",
   "execution_count": 47,
   "metadata": {},
   "outputs": [
    {
     "name": "stdout",
     "output_type": "stream",
     "text": [
      "Training Dataset Missing Value Columns:\n",
      "portfolio_id         0\n",
      "desk_id           3665\n",
      "office_id            0\n",
      "pf_category          0\n",
      "start_date           0\n",
      "sold                 2\n",
      "country_code         0\n",
      "euribor_rate         0\n",
      "currency             0\n",
      "libor_rate         474\n",
      "bought               2\n",
      "creation_date        0\n",
      "indicator_code    5699\n",
      "sell_date            0\n",
      "type                 0\n",
      "hedge_value       5701\n",
      "status            3084\n",
      "return               0\n",
      "dtype: int64\n",
      "\n",
      "\n",
      "Test Dataset Missing Value Columns:\n",
      "portfolio_id         0\n",
      "desk_id           1948\n",
      "office_id            0\n",
      "pf_category          0\n",
      "start_date           0\n",
      "sold                 0\n",
      "country_code         0\n",
      "euribor_rate         0\n",
      "currency             0\n",
      "libor_rate         265\n",
      "bought               0\n",
      "creation_date        0\n",
      "indicator_code    2851\n",
      "sell_date            0\n",
      "type                 0\n",
      "hedge_value       2851\n",
      "status            1457\n",
      "dtype: int64\n"
     ]
    }
   ],
   "source": [
    "# Now Checking For Any Missing Values\n",
    "print(\"Training Dataset Missing Value Columns:\")\n",
    "print(TrainData.isnull().sum())\n",
    "print(\"\\n\")\n",
    "print(\"Test Dataset Missing Value Columns:\")\n",
    "print(TestData.isnull().sum())"
   ]
  },
  {
   "cell_type": "markdown",
   "metadata": {},
   "source": [
    "# Now Strategy To Tackle The Dataset (Data Preprocessing)\n",
    "\n",
    "1. **portfolio_id** - This Column has no null value neither in the Training set nor in the Test set, while exploring this feature I found out that each value is almost unique from the rest of all values, therefore I am not going to consider this feature for our model because it will not help our model to predict better.\n",
    "\n",
    "2. **desk_id** - After a lot of experimentation I found out that this feature is very important without including this our model will not acheive high accuracy. This feature has value of type for ex DSK00001001 so I am going to extract only the 1001 and then convert this column numbers into float.\n",
    "\n",
    "3. **office_id** - This feature has only two unique values i.e. OFF00001001 & OFF00001002, now we will convert this feature into dummy variables and thus having two columns.\n",
    "\n",
    "4. **pf_category** - This feature has 5 categories for Training Set and 4 categories for Test Set, therefore first of all I will delete the rows in the training set which contains that extra 5 category and after that I will convert this column into dummy variable columns.\n",
    "\n",
    "5. **start_date**, **creation_date**, **sell_date** - I am going to delete these 3 columns but before that I will create 2 new feature **\"sell date - creation date\"** and **\"creation date - start date\"**\n",
    "\n",
    "6. **sold**, **bought** - I found out that these columns have 2 missing value from the same row, so we will delete these 2 rows and nothing to do much with these columns.\n",
    "\n",
    "7. **indicator_code**, **hedge_value**, **status** - These 3 columns have a lot of missing values so I will replace all the null values with False, I have tried to delete these 3 columns and had put other values but replacing with False gives the best score.\n",
    "\n",
    "8. **libor_rate** - I had filled the missing values with the median() value both in Train and Test Set.\n",
    "\n",
    "9. **euribor_rate** - Just keep this column as it is. NO PREPROCESSING in this column.\n",
    "\n",
    "10. **type** , **country_code**, **currency** - I Just did what I did with **pf_category** i.e. converted them into dummy variable, and remove those rows with categories which are not present in test data."
   ]
  },
  {
   "cell_type": "markdown",
   "metadata": {},
   "source": [
    "# DATA PREPROCESSING STEP"
   ]
  },
  {
   "cell_type": "code",
   "execution_count": 48,
   "metadata": {},
   "outputs": [],
   "source": [
    "# First of all we will create new features using our Date Columns\n",
    "# Therefore converting Date Columns to appropriate format\n",
    "\n",
    "TrainData['start_date'] = pd.to_datetime(TrainData['start_date'], format = \"%Y%m%d\")\n",
    "TrainData['creation_date'] = pd.to_datetime(TrainData['creation_date'], format = '%Y%m%d')\n",
    "TrainData['sell_date'] = pd.to_datetime(TrainData['sell_date'], format = '%Y%m%d')\n",
    "\n",
    "TestData['start_date'] = pd.to_datetime(TestData['start_date'], format = \"%Y%m%d\")\n",
    "TestData['creation_date'] = pd.to_datetime(TestData['creation_date'], format = \"%Y%m%d\")\n",
    "TestData['sell_date'] = pd.to_datetime(TestData['sell_date'], format = \"%Y%m%d\")"
   ]
  },
  {
   "cell_type": "markdown",
   "metadata": {},
   "source": [
    "### Feature Engineering Step"
   ]
  },
  {
   "cell_type": "code",
   "execution_count": 49,
   "metadata": {},
   "outputs": [],
   "source": [
    "TrainData['Creation-Start'] = (TrainData['creation_date'] - TrainData['start_date']).astype('timedelta64[h]')\n",
    "TrainData['Sell-Creation'] = (TrainData['sell_date'] - TrainData['creation_date']).astype('timedelta64[h]')\n",
    "\n",
    "TestData['Creation-Start'] = (TestData['creation_date'] - TestData['start_date']).astype('timedelta64[h]')\n",
    "TestData['Sell-Creation'] = (TestData['sell_date'] - TestData['creation_date']).astype('timedelta64[h]')"
   ]
  },
  {
   "cell_type": "code",
   "execution_count": 50,
   "metadata": {},
   "outputs": [
    {
     "data": {
      "text/html": [
       "<div>\n",
       "<style>\n",
       "    .dataframe thead tr:only-child th {\n",
       "        text-align: right;\n",
       "    }\n",
       "\n",
       "    .dataframe thead th {\n",
       "        text-align: left;\n",
       "    }\n",
       "\n",
       "    .dataframe tbody tr th {\n",
       "        vertical-align: top;\n",
       "    }\n",
       "</style>\n",
       "<table border=\"1\" class=\"dataframe\">\n",
       "  <thead>\n",
       "    <tr style=\"text-align: right;\">\n",
       "      <th></th>\n",
       "      <th>portfolio_id</th>\n",
       "      <th>desk_id</th>\n",
       "      <th>office_id</th>\n",
       "      <th>pf_category</th>\n",
       "      <th>start_date</th>\n",
       "      <th>sold</th>\n",
       "      <th>country_code</th>\n",
       "      <th>euribor_rate</th>\n",
       "      <th>currency</th>\n",
       "      <th>libor_rate</th>\n",
       "      <th>bought</th>\n",
       "      <th>creation_date</th>\n",
       "      <th>indicator_code</th>\n",
       "      <th>sell_date</th>\n",
       "      <th>type</th>\n",
       "      <th>hedge_value</th>\n",
       "      <th>status</th>\n",
       "      <th>return</th>\n",
       "      <th>Creation-Start</th>\n",
       "      <th>Sell-Creation</th>\n",
       "    </tr>\n",
       "  </thead>\n",
       "  <tbody>\n",
       "    <tr>\n",
       "      <th>0</th>\n",
       "      <td>PF00001002</td>\n",
       "      <td>DSK00001001</td>\n",
       "      <td>OFF00001002</td>\n",
       "      <td>B</td>\n",
       "      <td>2004-07-20</td>\n",
       "      <td>110000000.0</td>\n",
       "      <td>T</td>\n",
       "      <td>0.02074</td>\n",
       "      <td>USD</td>\n",
       "      <td>2.332216</td>\n",
       "      <td>1.098097e+08</td>\n",
       "      <td>2004-07-20</td>\n",
       "      <td>NaN</td>\n",
       "      <td>2004-08-12</td>\n",
       "      <td>B</td>\n",
       "      <td>NaN</td>\n",
       "      <td>NaN</td>\n",
       "      <td>0.02496</td>\n",
       "      <td>0.0</td>\n",
       "      <td>552.0</td>\n",
       "    </tr>\n",
       "    <tr>\n",
       "      <th>1</th>\n",
       "      <td>PF00001003</td>\n",
       "      <td>DSK00001002</td>\n",
       "      <td>OFF00001001</td>\n",
       "      <td>A</td>\n",
       "      <td>2004-07-09</td>\n",
       "      <td>176671000.0</td>\n",
       "      <td>N</td>\n",
       "      <td>0.02074</td>\n",
       "      <td>GBP</td>\n",
       "      <td>5.269617</td>\n",
       "      <td>1.760084e+08</td>\n",
       "      <td>2004-07-23</td>\n",
       "      <td>NaN</td>\n",
       "      <td>2004-08-12</td>\n",
       "      <td>C</td>\n",
       "      <td>NaN</td>\n",
       "      <td>NaN</td>\n",
       "      <td>0.05496</td>\n",
       "      <td>336.0</td>\n",
       "      <td>480.0</td>\n",
       "    </tr>\n",
       "    <tr>\n",
       "      <th>2</th>\n",
       "      <td>PF00001005</td>\n",
       "      <td>DSK00001004</td>\n",
       "      <td>OFF00001001</td>\n",
       "      <td>A</td>\n",
       "      <td>2004-07-23</td>\n",
       "      <td>56474000.0</td>\n",
       "      <td>T</td>\n",
       "      <td>0.02074</td>\n",
       "      <td>USD</td>\n",
       "      <td>2.332216</td>\n",
       "      <td>5.637953e+07</td>\n",
       "      <td>2004-07-23</td>\n",
       "      <td>NaN</td>\n",
       "      <td>2004-08-17</td>\n",
       "      <td>A</td>\n",
       "      <td>NaN</td>\n",
       "      <td>NaN</td>\n",
       "      <td>0.02496</td>\n",
       "      <td>0.0</td>\n",
       "      <td>600.0</td>\n",
       "    </tr>\n",
       "  </tbody>\n",
       "</table>\n",
       "</div>"
      ],
      "text/plain": [
       "  portfolio_id      desk_id    office_id pf_category start_date         sold  \\\n",
       "0   PF00001002  DSK00001001  OFF00001002           B 2004-07-20  110000000.0   \n",
       "1   PF00001003  DSK00001002  OFF00001001           A 2004-07-09  176671000.0   \n",
       "2   PF00001005  DSK00001004  OFF00001001           A 2004-07-23   56474000.0   \n",
       "\n",
       "  country_code  euribor_rate currency  libor_rate        bought creation_date  \\\n",
       "0            T       0.02074      USD    2.332216  1.098097e+08    2004-07-20   \n",
       "1            N       0.02074      GBP    5.269617  1.760084e+08    2004-07-23   \n",
       "2            T       0.02074      USD    2.332216  5.637953e+07    2004-07-23   \n",
       "\n",
       "  indicator_code  sell_date type hedge_value status   return  Creation-Start  \\\n",
       "0            NaN 2004-08-12    B         NaN    NaN  0.02496             0.0   \n",
       "1            NaN 2004-08-12    C         NaN    NaN  0.05496           336.0   \n",
       "2            NaN 2004-08-17    A         NaN    NaN  0.02496             0.0   \n",
       "\n",
       "   Sell-Creation  \n",
       "0          552.0  \n",
       "1          480.0  \n",
       "2          600.0  "
      ]
     },
     "execution_count": 50,
     "metadata": {},
     "output_type": "execute_result"
    }
   ],
   "source": [
    "TrainData.head(3)"
   ]
  },
  {
   "cell_type": "code",
   "execution_count": 51,
   "metadata": {},
   "outputs": [
    {
     "data": {
      "text/html": [
       "<div>\n",
       "<style>\n",
       "    .dataframe thead tr:only-child th {\n",
       "        text-align: right;\n",
       "    }\n",
       "\n",
       "    .dataframe thead th {\n",
       "        text-align: left;\n",
       "    }\n",
       "\n",
       "    .dataframe tbody tr th {\n",
       "        vertical-align: top;\n",
       "    }\n",
       "</style>\n",
       "<table border=\"1\" class=\"dataframe\">\n",
       "  <thead>\n",
       "    <tr style=\"text-align: right;\">\n",
       "      <th></th>\n",
       "      <th>portfolio_id</th>\n",
       "      <th>desk_id</th>\n",
       "      <th>office_id</th>\n",
       "      <th>pf_category</th>\n",
       "      <th>start_date</th>\n",
       "      <th>sold</th>\n",
       "      <th>country_code</th>\n",
       "      <th>euribor_rate</th>\n",
       "      <th>currency</th>\n",
       "      <th>libor_rate</th>\n",
       "      <th>bought</th>\n",
       "      <th>creation_date</th>\n",
       "      <th>indicator_code</th>\n",
       "      <th>sell_date</th>\n",
       "      <th>type</th>\n",
       "      <th>hedge_value</th>\n",
       "      <th>status</th>\n",
       "      <th>Creation-Start</th>\n",
       "      <th>Sell-Creation</th>\n",
       "    </tr>\n",
       "  </thead>\n",
       "  <tbody>\n",
       "    <tr>\n",
       "      <th>0</th>\n",
       "      <td>PF00001001</td>\n",
       "      <td>DSK00001001</td>\n",
       "      <td>OFF00001001</td>\n",
       "      <td>A</td>\n",
       "      <td>2004-07-20</td>\n",
       "      <td>171831000.0</td>\n",
       "      <td>T</td>\n",
       "      <td>0.02074</td>\n",
       "      <td>USD</td>\n",
       "      <td>2.332216</td>\n",
       "      <td>1.715337e+08</td>\n",
       "      <td>2004-07-20</td>\n",
       "      <td>NaN</td>\n",
       "      <td>2004-08-12</td>\n",
       "      <td>A</td>\n",
       "      <td>NaN</td>\n",
       "      <td>NaN</td>\n",
       "      <td>0.0</td>\n",
       "      <td>552.0</td>\n",
       "    </tr>\n",
       "    <tr>\n",
       "      <th>1</th>\n",
       "      <td>PF00001004</td>\n",
       "      <td>DSK00001003</td>\n",
       "      <td>OFF00001002</td>\n",
       "      <td>B</td>\n",
       "      <td>2004-07-23</td>\n",
       "      <td>56485000.0</td>\n",
       "      <td>T</td>\n",
       "      <td>0.02074</td>\n",
       "      <td>USD</td>\n",
       "      <td>2.332216</td>\n",
       "      <td>5.638038e+07</td>\n",
       "      <td>2004-07-23</td>\n",
       "      <td>NaN</td>\n",
       "      <td>2004-07-19</td>\n",
       "      <td>B</td>\n",
       "      <td>NaN</td>\n",
       "      <td>NaN</td>\n",
       "      <td>0.0</td>\n",
       "      <td>-96.0</td>\n",
       "    </tr>\n",
       "    <tr>\n",
       "      <th>2</th>\n",
       "      <td>PF00001009</td>\n",
       "      <td>DSK00001007</td>\n",
       "      <td>OFF00001001</td>\n",
       "      <td>A</td>\n",
       "      <td>2004-06-07</td>\n",
       "      <td>41734000.0</td>\n",
       "      <td>T</td>\n",
       "      <td>0.02074</td>\n",
       "      <td>USD</td>\n",
       "      <td>2.332216</td>\n",
       "      <td>4.166179e+07</td>\n",
       "      <td>2004-07-26</td>\n",
       "      <td>NaN</td>\n",
       "      <td>2004-07-09</td>\n",
       "      <td>A</td>\n",
       "      <td>NaN</td>\n",
       "      <td>NaN</td>\n",
       "      <td>1176.0</td>\n",
       "      <td>-408.0</td>\n",
       "    </tr>\n",
       "  </tbody>\n",
       "</table>\n",
       "</div>"
      ],
      "text/plain": [
       "  portfolio_id      desk_id    office_id pf_category start_date         sold  \\\n",
       "0   PF00001001  DSK00001001  OFF00001001           A 2004-07-20  171831000.0   \n",
       "1   PF00001004  DSK00001003  OFF00001002           B 2004-07-23   56485000.0   \n",
       "2   PF00001009  DSK00001007  OFF00001001           A 2004-06-07   41734000.0   \n",
       "\n",
       "  country_code  euribor_rate currency  libor_rate        bought creation_date  \\\n",
       "0            T       0.02074      USD    2.332216  1.715337e+08    2004-07-20   \n",
       "1            T       0.02074      USD    2.332216  5.638038e+07    2004-07-23   \n",
       "2            T       0.02074      USD    2.332216  4.166179e+07    2004-07-26   \n",
       "\n",
       "  indicator_code  sell_date type hedge_value status  Creation-Start  \\\n",
       "0            NaN 2004-08-12    A         NaN    NaN             0.0   \n",
       "1            NaN 2004-07-19    B         NaN    NaN             0.0   \n",
       "2            NaN 2004-07-09    A         NaN    NaN          1176.0   \n",
       "\n",
       "   Sell-Creation  \n",
       "0          552.0  \n",
       "1          -96.0  \n",
       "2         -408.0  "
      ]
     },
     "execution_count": 51,
     "metadata": {},
     "output_type": "execute_result"
    }
   ],
   "source": [
    "TestData.head(3)"
   ]
  },
  {
   "cell_type": "markdown",
   "metadata": {},
   "source": [
    "### What is most occuring desk_id in Training Set?"
   ]
  },
  {
   "cell_type": "code",
   "execution_count": 52,
   "metadata": {},
   "outputs": [
    {
     "data": {
      "text/plain": [
       "DSK00006011    10\n",
       "DSK00005869    10\n",
       "DSK00005718     9\n",
       "DSK00005754     9\n",
       "DSK00005951     9\n",
       "DSK00005895     9\n",
       "DSK00005724     9\n",
       "DSK00006030     8\n",
       "DSK00005727     8\n",
       "DSK00005905     8\n",
       "DSK00005789     8\n",
       "DSK00006026     7\n",
       "DSK00005943     7\n",
       "DSK00005900     7\n",
       "DSK00005569     7\n",
       "DSK00005715     7\n",
       "DSK00005803     7\n",
       "DSK00005637     7\n",
       "DSK00005568     7\n",
       "DSK00005678     7\n",
       "DSK00005755     7\n",
       "DSK00005810     7\n",
       "DSK00006004     7\n",
       "DSK00005975     7\n",
       "DSK00005739     7\n",
       "DSK00005468     7\n",
       "DSK00005938     7\n",
       "DSK00005475     7\n",
       "DSK00005733     7\n",
       "DSK00004410     7\n",
       "               ..\n",
       "DSK00005270     1\n",
       "DSK00002632     1\n",
       "DSK00004154     1\n",
       "DSK00004674     1\n",
       "DSK00006236     1\n",
       "DSK00004442     1\n",
       "DSK00006032     1\n",
       "DSK00002291     1\n",
       "DSK00002658     1\n",
       "DSK00003165     1\n",
       "DSK00001037     1\n",
       "DSK00005503     1\n",
       "DSK00005690     1\n",
       "DSK00002005     1\n",
       "DSK00001311     1\n",
       "DSK00004980     1\n",
       "DSK00001511     1\n",
       "DSK00004468     1\n",
       "DSK00001862     1\n",
       "DSK00002494     1\n",
       "DSK00006008     1\n",
       "DSK00004709     1\n",
       "DSK00002941     1\n",
       "DSK00004244     1\n",
       "DSK00005130     1\n",
       "DSK00001505     1\n",
       "DSK00004648     1\n",
       "DSK00002912     1\n",
       "DSK00004626     1\n",
       "DSK00003827     1\n",
       "Name: desk_id, Length: 3992, dtype: int64"
      ]
     },
     "execution_count": 52,
     "metadata": {},
     "output_type": "execute_result"
    }
   ],
   "source": [
    "TrainData['desk_id'].value_counts()"
   ]
  },
  {
   "cell_type": "markdown",
   "metadata": {},
   "source": [
    "So we found out that **DSK00006011** and **DSK00008569** are most occuring ones. But with some experimentation I found out that **DSK00008569 gives higher score**."
   ]
  },
  {
   "cell_type": "markdown",
   "metadata": {},
   "source": [
    "# Creating new DataFrame after filling all the missing values"
   ]
  },
  {
   "cell_type": "markdown",
   "metadata": {},
   "source": [
    "### First Dealing With Training DataSet"
   ]
  },
  {
   "cell_type": "code",
   "execution_count": 53,
   "metadata": {},
   "outputs": [],
   "source": [
    "Train_filled = TrainData.drop(['portfolio_id','start_date','creation_date','sell_date'], axis = 1)\n",
    "\n",
    "Train_filled['desk_id'].fillna('DSK00005869', inplace = True)\n",
    "Train_filled['desk_id'] = Train_filled['desk_id'].str[3:].astype(float)\n",
    "\n",
    "Train_filled['libor_rate'].fillna(Train_filled['libor_rate'].median(), inplace = True)\n",
    "Train_filled['indicator_code'].fillna(False, inplace = True)\n",
    "Train_filled['hedge_value'].fillna(False, inplace = True)\n",
    "Train_filled['status'].fillna(False, inplace = True)"
   ]
  },
  {
   "cell_type": "code",
   "execution_count": 54,
   "metadata": {},
   "outputs": [
    {
     "data": {
      "text/html": [
       "<div>\n",
       "<style>\n",
       "    .dataframe thead tr:only-child th {\n",
       "        text-align: right;\n",
       "    }\n",
       "\n",
       "    .dataframe thead th {\n",
       "        text-align: left;\n",
       "    }\n",
       "\n",
       "    .dataframe tbody tr th {\n",
       "        vertical-align: top;\n",
       "    }\n",
       "</style>\n",
       "<table border=\"1\" class=\"dataframe\">\n",
       "  <thead>\n",
       "    <tr style=\"text-align: right;\">\n",
       "      <th></th>\n",
       "      <th>desk_id</th>\n",
       "      <th>office_id</th>\n",
       "      <th>pf_category</th>\n",
       "      <th>sold</th>\n",
       "      <th>country_code</th>\n",
       "      <th>euribor_rate</th>\n",
       "      <th>currency</th>\n",
       "      <th>libor_rate</th>\n",
       "      <th>bought</th>\n",
       "      <th>indicator_code</th>\n",
       "      <th>type</th>\n",
       "      <th>hedge_value</th>\n",
       "      <th>status</th>\n",
       "      <th>return</th>\n",
       "      <th>Creation-Start</th>\n",
       "      <th>Sell-Creation</th>\n",
       "    </tr>\n",
       "  </thead>\n",
       "  <tbody>\n",
       "    <tr>\n",
       "      <th>0</th>\n",
       "      <td>1001.0</td>\n",
       "      <td>OFF00001002</td>\n",
       "      <td>B</td>\n",
       "      <td>110000000.0</td>\n",
       "      <td>T</td>\n",
       "      <td>0.02074</td>\n",
       "      <td>USD</td>\n",
       "      <td>2.332216</td>\n",
       "      <td>1.098097e+08</td>\n",
       "      <td>False</td>\n",
       "      <td>B</td>\n",
       "      <td>False</td>\n",
       "      <td>False</td>\n",
       "      <td>0.02496</td>\n",
       "      <td>0.0</td>\n",
       "      <td>552.0</td>\n",
       "    </tr>\n",
       "    <tr>\n",
       "      <th>1</th>\n",
       "      <td>1002.0</td>\n",
       "      <td>OFF00001001</td>\n",
       "      <td>A</td>\n",
       "      <td>176671000.0</td>\n",
       "      <td>N</td>\n",
       "      <td>0.02074</td>\n",
       "      <td>GBP</td>\n",
       "      <td>5.269617</td>\n",
       "      <td>1.760084e+08</td>\n",
       "      <td>False</td>\n",
       "      <td>C</td>\n",
       "      <td>False</td>\n",
       "      <td>False</td>\n",
       "      <td>0.05496</td>\n",
       "      <td>336.0</td>\n",
       "      <td>480.0</td>\n",
       "    </tr>\n",
       "    <tr>\n",
       "      <th>2</th>\n",
       "      <td>1004.0</td>\n",
       "      <td>OFF00001001</td>\n",
       "      <td>A</td>\n",
       "      <td>56474000.0</td>\n",
       "      <td>T</td>\n",
       "      <td>0.02074</td>\n",
       "      <td>USD</td>\n",
       "      <td>2.332216</td>\n",
       "      <td>5.637953e+07</td>\n",
       "      <td>False</td>\n",
       "      <td>A</td>\n",
       "      <td>False</td>\n",
       "      <td>False</td>\n",
       "      <td>0.02496</td>\n",
       "      <td>0.0</td>\n",
       "      <td>600.0</td>\n",
       "    </tr>\n",
       "  </tbody>\n",
       "</table>\n",
       "</div>"
      ],
      "text/plain": [
       "   desk_id    office_id pf_category         sold country_code  euribor_rate  \\\n",
       "0   1001.0  OFF00001002           B  110000000.0            T       0.02074   \n",
       "1   1002.0  OFF00001001           A  176671000.0            N       0.02074   \n",
       "2   1004.0  OFF00001001           A   56474000.0            T       0.02074   \n",
       "\n",
       "  currency  libor_rate        bought  indicator_code type  hedge_value  \\\n",
       "0      USD    2.332216  1.098097e+08           False    B        False   \n",
       "1      GBP    5.269617  1.760084e+08           False    C        False   \n",
       "2      USD    2.332216  5.637953e+07           False    A        False   \n",
       "\n",
       "   status   return  Creation-Start  Sell-Creation  \n",
       "0   False  0.02496             0.0          552.0  \n",
       "1   False  0.05496           336.0          480.0  \n",
       "2   False  0.02496             0.0          600.0  "
      ]
     },
     "execution_count": 54,
     "metadata": {},
     "output_type": "execute_result"
    }
   ],
   "source": [
    "Train_filled.head(3)"
   ]
  },
  {
   "cell_type": "code",
   "execution_count": 55,
   "metadata": {},
   "outputs": [
    {
     "data": {
      "text/plain": [
       "desk_id           0\n",
       "office_id         0\n",
       "pf_category       0\n",
       "sold              2\n",
       "country_code      0\n",
       "euribor_rate      0\n",
       "currency          0\n",
       "libor_rate        0\n",
       "bought            2\n",
       "indicator_code    0\n",
       "type              0\n",
       "hedge_value       0\n",
       "status            0\n",
       "return            0\n",
       "Creation-Start    0\n",
       "Sell-Creation     0\n",
       "dtype: int64"
      ]
     },
     "execution_count": 55,
     "metadata": {},
     "output_type": "execute_result"
    }
   ],
   "source": [
    "Train_filled.isnull().sum()"
   ]
  },
  {
   "cell_type": "markdown",
   "metadata": {},
   "source": [
    "## Now we have check that the missing values of sold and bought are in the same row or not?"
   ]
  },
  {
   "cell_type": "code",
   "execution_count": 56,
   "metadata": {},
   "outputs": [
    {
     "name": "stdout",
     "output_type": "stream",
     "text": [
      "True\n"
     ]
    }
   ],
   "source": [
    "print(len(Train_filled) == sum(Train_filled.isnull().sold == Train_filled.isnull().bought))\n",
    "Train_filled.dropna(axis = 0, how = 'any', inplace = True)"
   ]
  },
  {
   "cell_type": "code",
   "execution_count": 57,
   "metadata": {},
   "outputs": [
    {
     "data": {
      "text/plain": [
       "(9364, 16)"
      ]
     },
     "execution_count": 57,
     "metadata": {},
     "output_type": "execute_result"
    }
   ],
   "source": [
    "Train_filled.shape"
   ]
  },
  {
   "cell_type": "code",
   "execution_count": 58,
   "metadata": {},
   "outputs": [
    {
     "data": {
      "text/plain": [
       "desk_id           0\n",
       "office_id         0\n",
       "pf_category       0\n",
       "sold              0\n",
       "country_code      0\n",
       "euribor_rate      0\n",
       "currency          0\n",
       "libor_rate        0\n",
       "bought            0\n",
       "indicator_code    0\n",
       "type              0\n",
       "hedge_value       0\n",
       "status            0\n",
       "return            0\n",
       "Creation-Start    0\n",
       "Sell-Creation     0\n",
       "dtype: int64"
      ]
     },
     "execution_count": 58,
     "metadata": {},
     "output_type": "execute_result"
    }
   ],
   "source": [
    "Train_filled.isnull().sum()"
   ]
  },
  {
   "cell_type": "markdown",
   "metadata": {},
   "source": [
    "### Second Dealing With Test Dataset"
   ]
  },
  {
   "cell_type": "code",
   "execution_count": 59,
   "metadata": {},
   "outputs": [],
   "source": [
    "# First keep the id column in an array so that we can refer it later\n",
    "portfolio_id = TestData['portfolio_id']\n",
    "\n",
    "Test_filled= TestData.drop(['portfolio_id','start_date','creation_date','sell_date'], axis = 1)\n",
    "Test_filled['desk_id'].fillna('DSK00005869', inplace = True)\n",
    "Test_filled['desk_id'] = Test_filled['desk_id'].str[3:].astype(float)\n",
    "\n",
    "Test_filled['libor_rate'].fillna(Test_filled['libor_rate'].median(), inplace = True)\n",
    "Test_filled['indicator_code'].fillna(False, inplace = True)\n",
    "Test_filled['hedge_value'].fillna(False, inplace = True)\n",
    "Test_filled['status'].fillna(False, inplace = True)"
   ]
  },
  {
   "cell_type": "code",
   "execution_count": 60,
   "metadata": {},
   "outputs": [
    {
     "data": {
      "text/html": [
       "<div>\n",
       "<style>\n",
       "    .dataframe thead tr:only-child th {\n",
       "        text-align: right;\n",
       "    }\n",
       "\n",
       "    .dataframe thead th {\n",
       "        text-align: left;\n",
       "    }\n",
       "\n",
       "    .dataframe tbody tr th {\n",
       "        vertical-align: top;\n",
       "    }\n",
       "</style>\n",
       "<table border=\"1\" class=\"dataframe\">\n",
       "  <thead>\n",
       "    <tr style=\"text-align: right;\">\n",
       "      <th></th>\n",
       "      <th>desk_id</th>\n",
       "      <th>office_id</th>\n",
       "      <th>pf_category</th>\n",
       "      <th>sold</th>\n",
       "      <th>country_code</th>\n",
       "      <th>euribor_rate</th>\n",
       "      <th>currency</th>\n",
       "      <th>libor_rate</th>\n",
       "      <th>bought</th>\n",
       "      <th>indicator_code</th>\n",
       "      <th>type</th>\n",
       "      <th>hedge_value</th>\n",
       "      <th>status</th>\n",
       "      <th>Creation-Start</th>\n",
       "      <th>Sell-Creation</th>\n",
       "    </tr>\n",
       "  </thead>\n",
       "  <tbody>\n",
       "    <tr>\n",
       "      <th>0</th>\n",
       "      <td>1001.0</td>\n",
       "      <td>OFF00001001</td>\n",
       "      <td>A</td>\n",
       "      <td>171831000.0</td>\n",
       "      <td>T</td>\n",
       "      <td>0.02074</td>\n",
       "      <td>USD</td>\n",
       "      <td>2.332216</td>\n",
       "      <td>1.715337e+08</td>\n",
       "      <td>False</td>\n",
       "      <td>A</td>\n",
       "      <td>False</td>\n",
       "      <td>False</td>\n",
       "      <td>0.0</td>\n",
       "      <td>552.0</td>\n",
       "    </tr>\n",
       "    <tr>\n",
       "      <th>1</th>\n",
       "      <td>1003.0</td>\n",
       "      <td>OFF00001002</td>\n",
       "      <td>B</td>\n",
       "      <td>56485000.0</td>\n",
       "      <td>T</td>\n",
       "      <td>0.02074</td>\n",
       "      <td>USD</td>\n",
       "      <td>2.332216</td>\n",
       "      <td>5.638038e+07</td>\n",
       "      <td>False</td>\n",
       "      <td>B</td>\n",
       "      <td>False</td>\n",
       "      <td>False</td>\n",
       "      <td>0.0</td>\n",
       "      <td>-96.0</td>\n",
       "    </tr>\n",
       "    <tr>\n",
       "      <th>2</th>\n",
       "      <td>1007.0</td>\n",
       "      <td>OFF00001001</td>\n",
       "      <td>A</td>\n",
       "      <td>41734000.0</td>\n",
       "      <td>T</td>\n",
       "      <td>0.02074</td>\n",
       "      <td>USD</td>\n",
       "      <td>2.332216</td>\n",
       "      <td>4.166179e+07</td>\n",
       "      <td>False</td>\n",
       "      <td>A</td>\n",
       "      <td>False</td>\n",
       "      <td>False</td>\n",
       "      <td>1176.0</td>\n",
       "      <td>-408.0</td>\n",
       "    </tr>\n",
       "  </tbody>\n",
       "</table>\n",
       "</div>"
      ],
      "text/plain": [
       "   desk_id    office_id pf_category         sold country_code  euribor_rate  \\\n",
       "0   1001.0  OFF00001001           A  171831000.0            T       0.02074   \n",
       "1   1003.0  OFF00001002           B   56485000.0            T       0.02074   \n",
       "2   1007.0  OFF00001001           A   41734000.0            T       0.02074   \n",
       "\n",
       "  currency  libor_rate        bought  indicator_code type  hedge_value  \\\n",
       "0      USD    2.332216  1.715337e+08           False    A        False   \n",
       "1      USD    2.332216  5.638038e+07           False    B        False   \n",
       "2      USD    2.332216  4.166179e+07           False    A        False   \n",
       "\n",
       "   status  Creation-Start  Sell-Creation  \n",
       "0   False             0.0          552.0  \n",
       "1   False             0.0          -96.0  \n",
       "2   False          1176.0         -408.0  "
      ]
     },
     "execution_count": 60,
     "metadata": {},
     "output_type": "execute_result"
    }
   ],
   "source": [
    "Test_filled.head(3)"
   ]
  },
  {
   "cell_type": "code",
   "execution_count": 61,
   "metadata": {},
   "outputs": [
    {
     "data": {
      "text/plain": [
       "(4801, 15)"
      ]
     },
     "execution_count": 61,
     "metadata": {},
     "output_type": "execute_result"
    }
   ],
   "source": [
    "Test_filled.shape"
   ]
  },
  {
   "cell_type": "code",
   "execution_count": 62,
   "metadata": {},
   "outputs": [
    {
     "data": {
      "text/plain": [
       "desk_id           0\n",
       "office_id         0\n",
       "pf_category       0\n",
       "sold              0\n",
       "country_code      0\n",
       "euribor_rate      0\n",
       "currency          0\n",
       "libor_rate        0\n",
       "bought            0\n",
       "indicator_code    0\n",
       "type              0\n",
       "hedge_value       0\n",
       "status            0\n",
       "Creation-Start    0\n",
       "Sell-Creation     0\n",
       "dtype: int64"
      ]
     },
     "execution_count": 62,
     "metadata": {},
     "output_type": "execute_result"
    }
   ],
   "source": [
    "Test_filled.isnull().sum()"
   ]
  },
  {
   "cell_type": "markdown",
   "metadata": {},
   "source": [
    "# Exploring our data more"
   ]
  },
  {
   "cell_type": "code",
   "execution_count": 63,
   "metadata": {},
   "outputs": [
    {
     "name": "stdout",
     "output_type": "stream",
     "text": [
      "Different type in train and test dataset: \n",
      "['B' 'C' 'A' 'D' 'E' 'F' 'G' 'H']\n",
      "['A' 'B' 'C' 'D' 'E' 'F' 'H']\n",
      "\n",
      "\n",
      "Different pf_categories in train and test dataset: \n",
      "['B' 'A' 'C' 'D' 'E']\n",
      "['A' 'B' 'C' 'D']\n",
      "\n",
      "\n",
      "Different currency in train and test dataset: \n",
      "['USD' 'GBP' 'CHF' 'EUR' 'JPY']\n",
      "['USD' 'GBP' 'CHF' 'EUR' 'JPY']\n"
     ]
    }
   ],
   "source": [
    "# From this I will get to know what are different categories of type, pf_category and currency\n",
    "print(\"Different type in train and test dataset: \")\n",
    "print(Train_filled['type'].unique())\n",
    "print(Test_filled['type'].unique())\n",
    "print(\"\\n\")\n",
    "print(\"Different pf_categories in train and test dataset: \")\n",
    "print(Train_filled['pf_category'].unique())\n",
    "print(Test_filled['pf_category'].unique())\n",
    "print(\"\\n\")\n",
    "print(\"Different currency in train and test dataset: \")\n",
    "print(Train_filled['currency'].unique())\n",
    "print(Test_filled['currency'].unique())"
   ]
  },
  {
   "cell_type": "code",
   "execution_count": 64,
   "metadata": {},
   "outputs": [
    {
     "name": "stdout",
     "output_type": "stream",
     "text": [
      "Train_filled Shape:  (9364, 16)\n",
      "Test_filled Shape:  (4801, 15)\n"
     ]
    }
   ],
   "source": [
    "print(\"Train_filled Shape: \", Train_filled.shape)\n",
    "print(\"Test_filled Shape: \", Test_filled.shape)"
   ]
  },
  {
   "cell_type": "code",
   "execution_count": 65,
   "metadata": {},
   "outputs": [],
   "source": [
    "# Now deleting the rows from training set in which categories are not commom in train and test set\n",
    "Train_filled = Train_filled[Train_filled['type'] != \"G\"]\n",
    "Train_filled = Train_filled[Train_filled['pf_category'] != \"E\"]"
   ]
  },
  {
   "cell_type": "code",
   "execution_count": 66,
   "metadata": {},
   "outputs": [
    {
     "name": "stdout",
     "output_type": "stream",
     "text": [
      "Train_filled Shape:  (9361, 16)\n",
      "Test_filled Shape:  (4801, 15)\n"
     ]
    }
   ],
   "source": [
    "print(\"Train_filled Shape: \", Train_filled.shape)\n",
    "print(\"Test_filled Shape: \", Test_filled.shape)"
   ]
  },
  {
   "cell_type": "markdown",
   "metadata": {},
   "source": [
    "# Now Creating Dummy Variables Columns i.e. One-Hot Encoding"
   ]
  },
  {
   "cell_type": "code",
   "execution_count": 67,
   "metadata": {},
   "outputs": [],
   "source": [
    "Train_enc = pd.get_dummies(Train_filled, prefix = ['office_id', 'pf_category', 'country_code', 'currency','type'])\n",
    "Test_enc = pd.get_dummies(Test_filled, prefix = ['office_id', 'pf_category', 'country_code', 'currency', 'type'])"
   ]
  },
  {
   "cell_type": "code",
   "execution_count": 68,
   "metadata": {},
   "outputs": [
    {
     "name": "stdout",
     "output_type": "stream",
     "text": [
      "Train_enc Shape:  (9361, 34)\n",
      "Test_enc Shape:  (4801, 33)\n"
     ]
    }
   ],
   "source": [
    "print(\"Train_enc Shape: \", Train_enc.shape)\n",
    "print(\"Test_enc Shape: \", Test_enc.shape)"
   ]
  },
  {
   "cell_type": "code",
   "execution_count": 69,
   "metadata": {},
   "outputs": [
    {
     "data": {
      "text/html": [
       "<div>\n",
       "<style>\n",
       "    .dataframe thead tr:only-child th {\n",
       "        text-align: right;\n",
       "    }\n",
       "\n",
       "    .dataframe thead th {\n",
       "        text-align: left;\n",
       "    }\n",
       "\n",
       "    .dataframe tbody tr th {\n",
       "        vertical-align: top;\n",
       "    }\n",
       "</style>\n",
       "<table border=\"1\" class=\"dataframe\">\n",
       "  <thead>\n",
       "    <tr style=\"text-align: right;\">\n",
       "      <th></th>\n",
       "      <th>desk_id</th>\n",
       "      <th>sold</th>\n",
       "      <th>euribor_rate</th>\n",
       "      <th>libor_rate</th>\n",
       "      <th>bought</th>\n",
       "      <th>indicator_code</th>\n",
       "      <th>hedge_value</th>\n",
       "      <th>status</th>\n",
       "      <th>return</th>\n",
       "      <th>Creation-Start</th>\n",
       "      <th>...</th>\n",
       "      <th>currency_GBP</th>\n",
       "      <th>currency_JPY</th>\n",
       "      <th>currency_USD</th>\n",
       "      <th>type_A</th>\n",
       "      <th>type_B</th>\n",
       "      <th>type_C</th>\n",
       "      <th>type_D</th>\n",
       "      <th>type_E</th>\n",
       "      <th>type_F</th>\n",
       "      <th>type_H</th>\n",
       "    </tr>\n",
       "  </thead>\n",
       "  <tbody>\n",
       "    <tr>\n",
       "      <th>0</th>\n",
       "      <td>1001.0</td>\n",
       "      <td>110000000.0</td>\n",
       "      <td>0.02074</td>\n",
       "      <td>2.332216</td>\n",
       "      <td>1.098097e+08</td>\n",
       "      <td>False</td>\n",
       "      <td>False</td>\n",
       "      <td>False</td>\n",
       "      <td>0.02496</td>\n",
       "      <td>0.0</td>\n",
       "      <td>...</td>\n",
       "      <td>0</td>\n",
       "      <td>0</td>\n",
       "      <td>1</td>\n",
       "      <td>0</td>\n",
       "      <td>1</td>\n",
       "      <td>0</td>\n",
       "      <td>0</td>\n",
       "      <td>0</td>\n",
       "      <td>0</td>\n",
       "      <td>0</td>\n",
       "    </tr>\n",
       "    <tr>\n",
       "      <th>1</th>\n",
       "      <td>1002.0</td>\n",
       "      <td>176671000.0</td>\n",
       "      <td>0.02074</td>\n",
       "      <td>5.269617</td>\n",
       "      <td>1.760084e+08</td>\n",
       "      <td>False</td>\n",
       "      <td>False</td>\n",
       "      <td>False</td>\n",
       "      <td>0.05496</td>\n",
       "      <td>336.0</td>\n",
       "      <td>...</td>\n",
       "      <td>1</td>\n",
       "      <td>0</td>\n",
       "      <td>0</td>\n",
       "      <td>0</td>\n",
       "      <td>0</td>\n",
       "      <td>1</td>\n",
       "      <td>0</td>\n",
       "      <td>0</td>\n",
       "      <td>0</td>\n",
       "      <td>0</td>\n",
       "    </tr>\n",
       "    <tr>\n",
       "      <th>2</th>\n",
       "      <td>1004.0</td>\n",
       "      <td>56474000.0</td>\n",
       "      <td>0.02074</td>\n",
       "      <td>2.332216</td>\n",
       "      <td>5.637953e+07</td>\n",
       "      <td>False</td>\n",
       "      <td>False</td>\n",
       "      <td>False</td>\n",
       "      <td>0.02496</td>\n",
       "      <td>0.0</td>\n",
       "      <td>...</td>\n",
       "      <td>0</td>\n",
       "      <td>0</td>\n",
       "      <td>1</td>\n",
       "      <td>1</td>\n",
       "      <td>0</td>\n",
       "      <td>0</td>\n",
       "      <td>0</td>\n",
       "      <td>0</td>\n",
       "      <td>0</td>\n",
       "      <td>0</td>\n",
       "    </tr>\n",
       "  </tbody>\n",
       "</table>\n",
       "<p>3 rows × 34 columns</p>\n",
       "</div>"
      ],
      "text/plain": [
       "   desk_id         sold  euribor_rate  libor_rate        bought  \\\n",
       "0   1001.0  110000000.0       0.02074    2.332216  1.098097e+08   \n",
       "1   1002.0  176671000.0       0.02074    5.269617  1.760084e+08   \n",
       "2   1004.0   56474000.0       0.02074    2.332216  5.637953e+07   \n",
       "\n",
       "   indicator_code  hedge_value  status   return  Creation-Start   ...    \\\n",
       "0           False        False   False  0.02496             0.0   ...     \n",
       "1           False        False   False  0.05496           336.0   ...     \n",
       "2           False        False   False  0.02496             0.0   ...     \n",
       "\n",
       "   currency_GBP  currency_JPY  currency_USD  type_A  type_B  type_C  type_D  \\\n",
       "0             0             0             1       0       1       0       0   \n",
       "1             1             0             0       0       0       1       0   \n",
       "2             0             0             1       1       0       0       0   \n",
       "\n",
       "   type_E  type_F  type_H  \n",
       "0       0       0       0  \n",
       "1       0       0       0  \n",
       "2       0       0       0  \n",
       "\n",
       "[3 rows x 34 columns]"
      ]
     },
     "execution_count": 69,
     "metadata": {},
     "output_type": "execute_result"
    }
   ],
   "source": [
    "Train_enc.head(3)"
   ]
  },
  {
   "cell_type": "code",
   "execution_count": 70,
   "metadata": {},
   "outputs": [
    {
     "data": {
      "text/html": [
       "<div>\n",
       "<style>\n",
       "    .dataframe thead tr:only-child th {\n",
       "        text-align: right;\n",
       "    }\n",
       "\n",
       "    .dataframe thead th {\n",
       "        text-align: left;\n",
       "    }\n",
       "\n",
       "    .dataframe tbody tr th {\n",
       "        vertical-align: top;\n",
       "    }\n",
       "</style>\n",
       "<table border=\"1\" class=\"dataframe\">\n",
       "  <thead>\n",
       "    <tr style=\"text-align: right;\">\n",
       "      <th></th>\n",
       "      <th>desk_id</th>\n",
       "      <th>sold</th>\n",
       "      <th>euribor_rate</th>\n",
       "      <th>libor_rate</th>\n",
       "      <th>bought</th>\n",
       "      <th>indicator_code</th>\n",
       "      <th>hedge_value</th>\n",
       "      <th>status</th>\n",
       "      <th>Creation-Start</th>\n",
       "      <th>Sell-Creation</th>\n",
       "      <th>...</th>\n",
       "      <th>currency_GBP</th>\n",
       "      <th>currency_JPY</th>\n",
       "      <th>currency_USD</th>\n",
       "      <th>type_A</th>\n",
       "      <th>type_B</th>\n",
       "      <th>type_C</th>\n",
       "      <th>type_D</th>\n",
       "      <th>type_E</th>\n",
       "      <th>type_F</th>\n",
       "      <th>type_H</th>\n",
       "    </tr>\n",
       "  </thead>\n",
       "  <tbody>\n",
       "    <tr>\n",
       "      <th>0</th>\n",
       "      <td>1001.0</td>\n",
       "      <td>171831000.0</td>\n",
       "      <td>0.02074</td>\n",
       "      <td>2.332216</td>\n",
       "      <td>1.715337e+08</td>\n",
       "      <td>False</td>\n",
       "      <td>False</td>\n",
       "      <td>False</td>\n",
       "      <td>0.0</td>\n",
       "      <td>552.0</td>\n",
       "      <td>...</td>\n",
       "      <td>0</td>\n",
       "      <td>0</td>\n",
       "      <td>1</td>\n",
       "      <td>1</td>\n",
       "      <td>0</td>\n",
       "      <td>0</td>\n",
       "      <td>0</td>\n",
       "      <td>0</td>\n",
       "      <td>0</td>\n",
       "      <td>0</td>\n",
       "    </tr>\n",
       "    <tr>\n",
       "      <th>1</th>\n",
       "      <td>1003.0</td>\n",
       "      <td>56485000.0</td>\n",
       "      <td>0.02074</td>\n",
       "      <td>2.332216</td>\n",
       "      <td>5.638038e+07</td>\n",
       "      <td>False</td>\n",
       "      <td>False</td>\n",
       "      <td>False</td>\n",
       "      <td>0.0</td>\n",
       "      <td>-96.0</td>\n",
       "      <td>...</td>\n",
       "      <td>0</td>\n",
       "      <td>0</td>\n",
       "      <td>1</td>\n",
       "      <td>0</td>\n",
       "      <td>1</td>\n",
       "      <td>0</td>\n",
       "      <td>0</td>\n",
       "      <td>0</td>\n",
       "      <td>0</td>\n",
       "      <td>0</td>\n",
       "    </tr>\n",
       "    <tr>\n",
       "      <th>2</th>\n",
       "      <td>1007.0</td>\n",
       "      <td>41734000.0</td>\n",
       "      <td>0.02074</td>\n",
       "      <td>2.332216</td>\n",
       "      <td>4.166179e+07</td>\n",
       "      <td>False</td>\n",
       "      <td>False</td>\n",
       "      <td>False</td>\n",
       "      <td>1176.0</td>\n",
       "      <td>-408.0</td>\n",
       "      <td>...</td>\n",
       "      <td>0</td>\n",
       "      <td>0</td>\n",
       "      <td>1</td>\n",
       "      <td>1</td>\n",
       "      <td>0</td>\n",
       "      <td>0</td>\n",
       "      <td>0</td>\n",
       "      <td>0</td>\n",
       "      <td>0</td>\n",
       "      <td>0</td>\n",
       "    </tr>\n",
       "  </tbody>\n",
       "</table>\n",
       "<p>3 rows × 33 columns</p>\n",
       "</div>"
      ],
      "text/plain": [
       "   desk_id         sold  euribor_rate  libor_rate        bought  \\\n",
       "0   1001.0  171831000.0       0.02074    2.332216  1.715337e+08   \n",
       "1   1003.0   56485000.0       0.02074    2.332216  5.638038e+07   \n",
       "2   1007.0   41734000.0       0.02074    2.332216  4.166179e+07   \n",
       "\n",
       "   indicator_code  hedge_value  status  Creation-Start  Sell-Creation   ...    \\\n",
       "0           False        False   False             0.0          552.0   ...     \n",
       "1           False        False   False             0.0          -96.0   ...     \n",
       "2           False        False   False          1176.0         -408.0   ...     \n",
       "\n",
       "   currency_GBP  currency_JPY  currency_USD  type_A  type_B  type_C  type_D  \\\n",
       "0             0             0             1       1       0       0       0   \n",
       "1             0             0             1       0       1       0       0   \n",
       "2             0             0             1       1       0       0       0   \n",
       "\n",
       "   type_E  type_F  type_H  \n",
       "0       0       0       0  \n",
       "1       0       0       0  \n",
       "2       0       0       0  \n",
       "\n",
       "[3 rows x 33 columns]"
      ]
     },
     "execution_count": 70,
     "metadata": {},
     "output_type": "execute_result"
    }
   ],
   "source": [
    "Test_enc.head(3)"
   ]
  },
  {
   "cell_type": "markdown",
   "metadata": {},
   "source": [
    "# Analyzing and Removing Outliers"
   ]
  },
  {
   "cell_type": "code",
   "execution_count": 71,
   "metadata": {},
   "outputs": [],
   "source": [
    "Train_enc1=Train_enc.drop(Train_enc[Train_enc['return'] > 0.3].index)\n",
    "Train_rem=Train_enc1.drop(Train_enc1[Train_enc1['return'] > 0.2].index)  "
   ]
  },
  {
   "cell_type": "code",
   "execution_count": 72,
   "metadata": {},
   "outputs": [
    {
     "data": {
      "text/plain": [
       "(9359, 34)"
      ]
     },
     "execution_count": 72,
     "metadata": {},
     "output_type": "execute_result"
    }
   ],
   "source": [
    "Train_rem.shape"
   ]
  },
  {
   "cell_type": "code",
   "execution_count": 73,
   "metadata": {},
   "outputs": [
    {
     "data": {
      "image/png": "[encoded data removed]",
      "text/plain": [
       "<matplotlib.figure.Figure at 0x7fa20afe8400>"
      ]
     },
     "metadata": {},
     "output_type": "display_data"
    }
   ],
   "source": [
    "plt.figure(figsize=[15,8]) \n",
    "plt.plot(Train_enc['return'],label=\"Return Value Original\")\n",
    "plt.figure\n",
    "plt.plot(Train_rem['return'],label=\"Return Value After Removing Outliers\")\n",
    "plt.legend()\n",
    "plt.ylabel(\"Return Value\")\n",
    "plt.xlabel(\"Samples\")\n",
    "plt.show()"
   ]
  },
  {
   "cell_type": "code",
   "execution_count": 74,
   "metadata": {},
   "outputs": [
    {
     "data": {
      "text/plain": [
       "Index(['desk_id', 'sold', 'euribor_rate', 'libor_rate', 'bought',\n",
       "       'indicator_code', 'hedge_value', 'status', 'return', 'Creation-Start',\n",
       "       'Sell-Creation', 'office_id_OFF00001001', 'office_id_OFF00001002',\n",
       "       'pf_category_A', 'pf_category_B', 'pf_category_C', 'pf_category_D',\n",
       "       'country_code_M', 'country_code_N', 'country_code_T', 'country_code_U',\n",
       "       'country_code_Z', 'currency_CHF', 'currency_EUR', 'currency_GBP',\n",
       "       'currency_JPY', 'currency_USD', 'type_A', 'type_B', 'type_C', 'type_D',\n",
       "       'type_E', 'type_F', 'type_H'],\n",
       "      dtype='object')"
      ]
     },
     "execution_count": 74,
     "metadata": {},
     "output_type": "execute_result"
    }
   ],
   "source": [
    "Train_rem.columns"
   ]
  },
  {
   "cell_type": "code",
   "execution_count": 75,
   "metadata": {},
   "outputs": [
    {
     "data": {
      "text/plain": [
       "Index(['desk_id', 'sold', 'euribor_rate', 'libor_rate', 'bought',\n",
       "       'indicator_code', 'hedge_value', 'status', 'Creation-Start',\n",
       "       'Sell-Creation', 'office_id_OFF00001001', 'office_id_OFF00001002',\n",
       "       'pf_category_A', 'pf_category_B', 'pf_category_C', 'pf_category_D',\n",
       "       'country_code_M', 'country_code_N', 'country_code_T', 'country_code_U',\n",
       "       'country_code_Z', 'currency_CHF', 'currency_EUR', 'currency_GBP',\n",
       "       'currency_JPY', 'currency_USD', 'type_A', 'type_B', 'type_C', 'type_D',\n",
       "       'type_E', 'type_F', 'type_H'],\n",
       "      dtype='object')"
      ]
     },
     "execution_count": 75,
     "metadata": {},
     "output_type": "execute_result"
    }
   ],
   "source": [
    "Test_enc.columns"
   ]
  },
  {
   "cell_type": "markdown",
   "metadata": {},
   "source": [
    "# Now Preparing Our Model - XGBoost"
   ]
  },
  {
   "cell_type": "code",
   "execution_count": 77,
   "metadata": {},
   "outputs": [],
   "source": [
    "Y = Train_rem['return']\n",
    "X = Train_rem.drop('return', axis = 1)"
   ]
  },
  {
   "cell_type": "code",
   "execution_count": 78,
   "metadata": {},
   "outputs": [],
   "source": [
    "xg_reg = xgb.XGBRegressor(n_estimators=1600, max_depth=4, seed=1729)"
   ]
  },
  {
   "cell_type": "code",
   "execution_count": 79,
   "metadata": {},
   "outputs": [
    {
     "data": {
      "text/plain": [
       "XGBRegressor(base_score=0.5, colsample_bylevel=1, colsample_bytree=1, gamma=0,\n",
       "       learning_rate=0.1, max_delta_step=0, max_depth=4,\n",
       "       min_child_weight=1, missing=None, n_estimators=1600, nthread=-1,\n",
       "       objective='reg:linear', reg_alpha=0, reg_lambda=1,\n",
       "       scale_pos_weight=1, seed=1729, silent=True, subsample=1)"
      ]
     },
     "execution_count": 79,
     "metadata": {},
     "output_type": "execute_result"
    }
   ],
   "source": [
    "xg_reg.fit(X,Y)"
   ]
  },
  {
   "cell_type": "code",
   "execution_count": 80,
   "metadata": {},
   "outputs": [
    {
     "data": {
      "text/plain": [
       "0.99548771104618017"
      ]
     },
     "execution_count": 80,
     "metadata": {},
     "output_type": "execute_result"
    }
   ],
   "source": [
    "pred = xg_reg.predict(X)\n",
    "r2_score(pred,Y)"
   ]
  },
  {
   "cell_type": "markdown",
   "metadata": {},
   "source": [
    "# Visualizing Importance of Features In XGBoost"
   ]
  },
  {
   "cell_type": "code",
   "execution_count": 81,
   "metadata": {},
   "outputs": [
    {
     "data": {
      "text/plain": [
       "<matplotlib.axes._subplots.AxesSubplot at 0x7fa20b602eb8>"
      ]
     },
     "execution_count": 81,
     "metadata": {},
     "output_type": "execute_result"
    },
    {
     "data": {
      "image/png": "[encoded data removed]",
      "text/plain": [
       "<matplotlib.figure.Figure at 0x7fa20b625c50>"
      ]
     },
     "metadata": {},
     "output_type": "display_data"
    }
   ],
   "source": [
    "xgb.plot_importance(xg_reg)"
   ]
  },
  {
   "cell_type": "markdown",
   "metadata": {},
   "source": [
    "# Making Prediction On Test Data"
   ]
  },
  {
   "cell_type": "code",
   "execution_count": 82,
   "metadata": {},
   "outputs": [],
   "source": [
    "predictions = xg_reg.predict(Test_enc)"
   ]
  },
  {
   "cell_type": "markdown",
   "metadata": {},
   "source": [
    "# Reporting Results"
   ]
  },
  {
   "cell_type": "code",
   "execution_count": 83,
   "metadata": {},
   "outputs": [
    {
     "data": {
      "text/html": [
       "<a href='submissison_annual.csv' target='_blank'>submissison_annual.csv</a><br>"
      ],
      "text/plain": [
       "/home/sparsh/Desktop/SocieteGenerale Brainwaves-2017/submissison_annual.csv"
      ]
     },
     "execution_count": 83,
     "metadata": {},
     "output_type": "execute_result"
    }
   ],
   "source": [
    "sub = pd.DataFrame({'portfolio_id': portfolio_id, 'return': predictions})\n",
    "filename = 'submissison_annual.csv'\n",
    "sub.to_csv(filename, index=False)\n",
    "FileLink(filename)               "
   ]
  }
 ],
 "metadata": {
  "kernelspec": {
   "display_name": "Python 3",
   "language": "python",
   "name": "python3"
  },
  "language_info": {
   "codemirror_mode": {
    "name": "ipython",
    "version": 3
   },
   "file_extension": ".py",
   "mimetype": "text/x-python",
   "name": "python",
   "nbconvert_exporter": "python",
   "pygments_lexer": "ipython3",
   "version": "3.5.4"
  }
 },
 "nbformat": 4,
 "nbformat_minor": 2
}
