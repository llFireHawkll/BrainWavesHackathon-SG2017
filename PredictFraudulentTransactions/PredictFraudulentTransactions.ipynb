{
 "cells": [
  {
   "cell_type": "markdown",
   "metadata": {},
   "source": [
    "# PREDICT FRAUDULENT TRANSACTIONS"
   ]
  },
  {
   "cell_type": "code",
   "execution_count": 21,
   "metadata": {},
   "outputs": [],
   "source": [
    "import numpy as np\n",
    "import pandas as pd\n",
    "import xgboost as xgb\n",
    "from sklearn.model_selection import train_test_split, cross_val_score\n",
    "from sklearn.metrics import roc_auc_score\n",
    "import matplotlib.pyplot as plt\n",
    "%matplotlib inline"
   ]
  },
  {
   "cell_type": "code",
   "execution_count": 22,
   "metadata": {},
   "outputs": [],
   "source": [
    "TrainDataPath = './BW2017_2/train.csv'\n",
    "TestDataPath = './BW2017_2/test.csv'\n",
    "\n",
    "TrainData = pd.read_csv(TrainDataPath)\n",
    "TestData = pd.read_csv(TestDataPath)"
   ]
  },
  {
   "cell_type": "code",
   "execution_count": 23,
   "metadata": {},
   "outputs": [
    {
     "name": "stdout",
     "output_type": "stream",
     "text": [
      "Training Dataset Shape:\n",
      "(348978, 51)\n",
      "\n",
      "\n",
      "Training Dataset Columns/Features:\n",
      "transaction_id     object\n",
      "num_var_1         float64\n",
      "num_var_2         float64\n",
      "num_var_3         float64\n",
      "num_var_4         float64\n",
      "num_var_5         float64\n",
      "num_var_6         float64\n",
      "num_var_7         float64\n",
      "cat_var_1          object\n",
      "cat_var_2          object\n",
      "cat_var_3          object\n",
      "cat_var_4          object\n",
      "cat_var_5          object\n",
      "cat_var_6          object\n",
      "cat_var_7          object\n",
      "cat_var_8          object\n",
      "cat_var_9          object\n",
      "cat_var_10         object\n",
      "cat_var_11         object\n",
      "cat_var_12         object\n",
      "cat_var_13         object\n",
      "cat_var_14         object\n",
      "cat_var_15         object\n",
      "cat_var_16         object\n",
      "cat_var_17         object\n",
      "cat_var_18         object\n",
      "cat_var_19          int64\n",
      "cat_var_20          int64\n",
      "cat_var_21          int64\n",
      "cat_var_22          int64\n",
      "cat_var_23          int64\n",
      "cat_var_24          int64\n",
      "cat_var_25          int64\n",
      "cat_var_26          int64\n",
      "cat_var_27          int64\n",
      "cat_var_28          int64\n",
      "cat_var_29          int64\n",
      "cat_var_30          int64\n",
      "cat_var_31          int64\n",
      "cat_var_32          int64\n",
      "cat_var_33          int64\n",
      "cat_var_34          int64\n",
      "cat_var_35          int64\n",
      "cat_var_36          int64\n",
      "cat_var_37          int64\n",
      "cat_var_38          int64\n",
      "cat_var_39          int64\n",
      "cat_var_40          int64\n",
      "cat_var_41          int64\n",
      "cat_var_42          int64\n",
      "target              int64\n",
      "dtype: object\n"
     ]
    },
    {
     "data": {
      "text/html": [
       "<div>\n",
       "<style>\n",
       "    .dataframe thead tr:only-child th {\n",
       "        text-align: right;\n",
       "    }\n",
       "\n",
       "    .dataframe thead th {\n",
       "        text-align: left;\n",
       "    }\n",
       "\n",
       "    .dataframe tbody tr th {\n",
       "        vertical-align: top;\n",
       "    }\n",
       "</style>\n",
       "<table border=\"1\" class=\"dataframe\">\n",
       "  <thead>\n",
       "    <tr style=\"text-align: right;\">\n",
       "      <th></th>\n",
       "      <th>transaction_id</th>\n",
       "      <th>num_var_1</th>\n",
       "      <th>num_var_2</th>\n",
       "      <th>num_var_3</th>\n",
       "      <th>num_var_4</th>\n",
       "      <th>num_var_5</th>\n",
       "      <th>num_var_6</th>\n",
       "      <th>num_var_7</th>\n",
       "      <th>cat_var_1</th>\n",
       "      <th>cat_var_2</th>\n",
       "      <th>...</th>\n",
       "      <th>cat_var_34</th>\n",
       "      <th>cat_var_35</th>\n",
       "      <th>cat_var_36</th>\n",
       "      <th>cat_var_37</th>\n",
       "      <th>cat_var_38</th>\n",
       "      <th>cat_var_39</th>\n",
       "      <th>cat_var_40</th>\n",
       "      <th>cat_var_41</th>\n",
       "      <th>cat_var_42</th>\n",
       "      <th>target</th>\n",
       "    </tr>\n",
       "  </thead>\n",
       "  <tbody>\n",
       "    <tr>\n",
       "      <th>0</th>\n",
       "      <td>id_11</td>\n",
       "      <td>2.302632e-08</td>\n",
       "      <td>0.040182</td>\n",
       "      <td>0.0</td>\n",
       "      <td>1.800000e-07</td>\n",
       "      <td>2.302632e-08</td>\n",
       "      <td>2.368421e-08</td>\n",
       "      <td>1.115205e-08</td>\n",
       "      <td>NaN</td>\n",
       "      <td>ce</td>\n",
       "      <td>...</td>\n",
       "      <td>0</td>\n",
       "      <td>0</td>\n",
       "      <td>0</td>\n",
       "      <td>0</td>\n",
       "      <td>0</td>\n",
       "      <td>0</td>\n",
       "      <td>0</td>\n",
       "      <td>0</td>\n",
       "      <td>0</td>\n",
       "      <td>0</td>\n",
       "    </tr>\n",
       "    <tr>\n",
       "      <th>1</th>\n",
       "      <td>id_33</td>\n",
       "      <td>7.965789e-06</td>\n",
       "      <td>0.157872</td>\n",
       "      <td>0.0</td>\n",
       "      <td>2.105000e-06</td>\n",
       "      <td>2.769737e-07</td>\n",
       "      <td>7.965789e-06</td>\n",
       "      <td>2.433058e-06</td>\n",
       "      <td>da</td>\n",
       "      <td>tn</td>\n",
       "      <td>...</td>\n",
       "      <td>0</td>\n",
       "      <td>0</td>\n",
       "      <td>0</td>\n",
       "      <td>0</td>\n",
       "      <td>0</td>\n",
       "      <td>0</td>\n",
       "      <td>0</td>\n",
       "      <td>0</td>\n",
       "      <td>0</td>\n",
       "      <td>0</td>\n",
       "    </tr>\n",
       "    <tr>\n",
       "      <th>2</th>\n",
       "      <td>id_51</td>\n",
       "      <td>7.828947e-08</td>\n",
       "      <td>0.089140</td>\n",
       "      <td>0.0</td>\n",
       "      <td>3.550000e-07</td>\n",
       "      <td>4.671053e-08</td>\n",
       "      <td>1.052632e-07</td>\n",
       "      <td>4.276014e-07</td>\n",
       "      <td>gf</td>\n",
       "      <td>ce</td>\n",
       "      <td>...</td>\n",
       "      <td>0</td>\n",
       "      <td>0</td>\n",
       "      <td>0</td>\n",
       "      <td>0</td>\n",
       "      <td>0</td>\n",
       "      <td>0</td>\n",
       "      <td>0</td>\n",
       "      <td>0</td>\n",
       "      <td>0</td>\n",
       "      <td>0</td>\n",
       "    </tr>\n",
       "  </tbody>\n",
       "</table>\n",
       "<p>3 rows × 51 columns</p>\n",
       "</div>"
      ],
      "text/plain": [
       "  transaction_id     num_var_1  num_var_2  num_var_3     num_var_4  \\\n",
       "0          id_11  2.302632e-08   0.040182        0.0  1.800000e-07   \n",
       "1          id_33  7.965789e-06   0.157872        0.0  2.105000e-06   \n",
       "2          id_51  7.828947e-08   0.089140        0.0  3.550000e-07   \n",
       "\n",
       "      num_var_5     num_var_6     num_var_7 cat_var_1 cat_var_2  ...    \\\n",
       "0  2.302632e-08  2.368421e-08  1.115205e-08       NaN        ce  ...     \n",
       "1  2.769737e-07  7.965789e-06  2.433058e-06        da        tn  ...     \n",
       "2  4.671053e-08  1.052632e-07  4.276014e-07        gf        ce  ...     \n",
       "\n",
       "  cat_var_34 cat_var_35 cat_var_36 cat_var_37 cat_var_38 cat_var_39  \\\n",
       "0          0          0          0          0          0          0   \n",
       "1          0          0          0          0          0          0   \n",
       "2          0          0          0          0          0          0   \n",
       "\n",
       "  cat_var_40 cat_var_41 cat_var_42 target  \n",
       "0          0          0          0      0  \n",
       "1          0          0          0      0  \n",
       "2          0          0          0      0  \n",
       "\n",
       "[3 rows x 51 columns]"
      ]
     },
     "execution_count": 23,
     "metadata": {},
     "output_type": "execute_result"
    }
   ],
   "source": [
    "print(\"Training Dataset Shape:\")\n",
    "print(TrainData.shape)\n",
    "print(\"\\n\")\n",
    "print(\"Training Dataset Columns/Features:\")\n",
    "print(TrainData.dtypes)\n",
    "TrainData.head(3)"
   ]
  },
  {
   "cell_type": "code",
   "execution_count": 24,
   "metadata": {},
   "outputs": [
    {
     "name": "stdout",
     "output_type": "stream",
     "text": [
      "Test Dataset Shape:\n",
      "(523466, 50)\n",
      "\n",
      "\n",
      "Test Dataset Columns/Features:\n",
      "transaction_id     object\n",
      "num_var_1         float64\n",
      "num_var_2         float64\n",
      "num_var_3         float64\n",
      "num_var_4         float64\n",
      "num_var_5         float64\n",
      "num_var_6         float64\n",
      "num_var_7         float64\n",
      "cat_var_1          object\n",
      "cat_var_2          object\n",
      "cat_var_3          object\n",
      "cat_var_4          object\n",
      "cat_var_5          object\n",
      "cat_var_6          object\n",
      "cat_var_7          object\n",
      "cat_var_8          object\n",
      "cat_var_9          object\n",
      "cat_var_10         object\n",
      "cat_var_11         object\n",
      "cat_var_12         object\n",
      "cat_var_13         object\n",
      "cat_var_14         object\n",
      "cat_var_15         object\n",
      "cat_var_16         object\n",
      "cat_var_17         object\n",
      "cat_var_18         object\n",
      "cat_var_19          int64\n",
      "cat_var_20          int64\n",
      "cat_var_21          int64\n",
      "cat_var_22          int64\n",
      "cat_var_23          int64\n",
      "cat_var_24          int64\n",
      "cat_var_25          int64\n",
      "cat_var_26          int64\n",
      "cat_var_27          int64\n",
      "cat_var_28          int64\n",
      "cat_var_29          int64\n",
      "cat_var_30          int64\n",
      "cat_var_31          int64\n",
      "cat_var_32          int64\n",
      "cat_var_33          int64\n",
      "cat_var_34          int64\n",
      "cat_var_35          int64\n",
      "cat_var_36          int64\n",
      "cat_var_37          int64\n",
      "cat_var_38          int64\n",
      "cat_var_39          int64\n",
      "cat_var_40          int64\n",
      "cat_var_41          int64\n",
      "cat_var_42          int64\n",
      "dtype: object\n"
     ]
    },
    {
     "data": {
      "text/html": [
       "<div>\n",
       "<style>\n",
       "    .dataframe thead tr:only-child th {\n",
       "        text-align: right;\n",
       "    }\n",
       "\n",
       "    .dataframe thead th {\n",
       "        text-align: left;\n",
       "    }\n",
       "\n",
       "    .dataframe tbody tr th {\n",
       "        vertical-align: top;\n",
       "    }\n",
       "</style>\n",
       "<table border=\"1\" class=\"dataframe\">\n",
       "  <thead>\n",
       "    <tr style=\"text-align: right;\">\n",
       "      <th></th>\n",
       "      <th>transaction_id</th>\n",
       "      <th>num_var_1</th>\n",
       "      <th>num_var_2</th>\n",
       "      <th>num_var_3</th>\n",
       "      <th>num_var_4</th>\n",
       "      <th>num_var_5</th>\n",
       "      <th>num_var_6</th>\n",
       "      <th>num_var_7</th>\n",
       "      <th>cat_var_1</th>\n",
       "      <th>cat_var_2</th>\n",
       "      <th>...</th>\n",
       "      <th>cat_var_33</th>\n",
       "      <th>cat_var_34</th>\n",
       "      <th>cat_var_35</th>\n",
       "      <th>cat_var_36</th>\n",
       "      <th>cat_var_37</th>\n",
       "      <th>cat_var_38</th>\n",
       "      <th>cat_var_39</th>\n",
       "      <th>cat_var_40</th>\n",
       "      <th>cat_var_41</th>\n",
       "      <th>cat_var_42</th>\n",
       "    </tr>\n",
       "  </thead>\n",
       "  <tbody>\n",
       "    <tr>\n",
       "      <th>0</th>\n",
       "      <td>id_1</td>\n",
       "      <td>4.736842e-07</td>\n",
       "      <td>0.162737</td>\n",
       "      <td>0.0</td>\n",
       "      <td>2.105000e-06</td>\n",
       "      <td>2.769737e-07</td>\n",
       "      <td>4.828947e-07</td>\n",
       "      <td>1.300010e-07</td>\n",
       "      <td>da</td>\n",
       "      <td>tn</td>\n",
       "      <td>...</td>\n",
       "      <td>0</td>\n",
       "      <td>0</td>\n",
       "      <td>0</td>\n",
       "      <td>0</td>\n",
       "      <td>0</td>\n",
       "      <td>0</td>\n",
       "      <td>0</td>\n",
       "      <td>0</td>\n",
       "      <td>0</td>\n",
       "      <td>0</td>\n",
       "    </tr>\n",
       "    <tr>\n",
       "      <th>1</th>\n",
       "      <td>id_6</td>\n",
       "      <td>6.578947e-08</td>\n",
       "      <td>0.086391</td>\n",
       "      <td>0.0</td>\n",
       "      <td>7.500000e-07</td>\n",
       "      <td>1.315789e-07</td>\n",
       "      <td>9.868421e-08</td>\n",
       "      <td>3.186300e-08</td>\n",
       "      <td>pu</td>\n",
       "      <td>ce</td>\n",
       "      <td>...</td>\n",
       "      <td>0</td>\n",
       "      <td>0</td>\n",
       "      <td>0</td>\n",
       "      <td>0</td>\n",
       "      <td>0</td>\n",
       "      <td>0</td>\n",
       "      <td>0</td>\n",
       "      <td>0</td>\n",
       "      <td>0</td>\n",
       "      <td>0</td>\n",
       "    </tr>\n",
       "    <tr>\n",
       "      <th>2</th>\n",
       "      <td>id_9</td>\n",
       "      <td>1.585526e-07</td>\n",
       "      <td>0.159987</td>\n",
       "      <td>0.0</td>\n",
       "      <td>2.105000e-06</td>\n",
       "      <td>2.769737e-07</td>\n",
       "      <td>1.585526e-07</td>\n",
       "      <td>4.715724e-08</td>\n",
       "      <td>da</td>\n",
       "      <td>tn</td>\n",
       "      <td>...</td>\n",
       "      <td>0</td>\n",
       "      <td>0</td>\n",
       "      <td>0</td>\n",
       "      <td>0</td>\n",
       "      <td>0</td>\n",
       "      <td>0</td>\n",
       "      <td>0</td>\n",
       "      <td>0</td>\n",
       "      <td>0</td>\n",
       "      <td>0</td>\n",
       "    </tr>\n",
       "    <tr>\n",
       "      <th>3</th>\n",
       "      <td>id_14</td>\n",
       "      <td>8.552632e-08</td>\n",
       "      <td>0.088083</td>\n",
       "      <td>0.0</td>\n",
       "      <td>7.500000e-07</td>\n",
       "      <td>8.552632e-08</td>\n",
       "      <td>9.868421e-08</td>\n",
       "      <td>4.142190e-08</td>\n",
       "      <td>pu</td>\n",
       "      <td>ce</td>\n",
       "      <td>...</td>\n",
       "      <td>0</td>\n",
       "      <td>0</td>\n",
       "      <td>0</td>\n",
       "      <td>0</td>\n",
       "      <td>0</td>\n",
       "      <td>0</td>\n",
       "      <td>0</td>\n",
       "      <td>0</td>\n",
       "      <td>0</td>\n",
       "      <td>0</td>\n",
       "    </tr>\n",
       "    <tr>\n",
       "      <th>4</th>\n",
       "      <td>id_15</td>\n",
       "      <td>1.144737e-07</td>\n",
       "      <td>0.089563</td>\n",
       "      <td>0.0</td>\n",
       "      <td>3.550000e-07</td>\n",
       "      <td>4.671053e-08</td>\n",
       "      <td>4.407895e-08</td>\n",
       "      <td>1.452953e-07</td>\n",
       "      <td>gf</td>\n",
       "      <td>ce</td>\n",
       "      <td>...</td>\n",
       "      <td>0</td>\n",
       "      <td>0</td>\n",
       "      <td>0</td>\n",
       "      <td>0</td>\n",
       "      <td>0</td>\n",
       "      <td>0</td>\n",
       "      <td>0</td>\n",
       "      <td>0</td>\n",
       "      <td>0</td>\n",
       "      <td>0</td>\n",
       "    </tr>\n",
       "  </tbody>\n",
       "</table>\n",
       "<p>5 rows × 50 columns</p>\n",
       "</div>"
      ],
      "text/plain": [
       "  transaction_id     num_var_1  num_var_2  num_var_3     num_var_4  \\\n",
       "0           id_1  4.736842e-07   0.162737        0.0  2.105000e-06   \n",
       "1           id_6  6.578947e-08   0.086391        0.0  7.500000e-07   \n",
       "2           id_9  1.585526e-07   0.159987        0.0  2.105000e-06   \n",
       "3          id_14  8.552632e-08   0.088083        0.0  7.500000e-07   \n",
       "4          id_15  1.144737e-07   0.089563        0.0  3.550000e-07   \n",
       "\n",
       "      num_var_5     num_var_6     num_var_7 cat_var_1 cat_var_2    ...      \\\n",
       "0  2.769737e-07  4.828947e-07  1.300010e-07        da        tn    ...       \n",
       "1  1.315789e-07  9.868421e-08  3.186300e-08        pu        ce    ...       \n",
       "2  2.769737e-07  1.585526e-07  4.715724e-08        da        tn    ...       \n",
       "3  8.552632e-08  9.868421e-08  4.142190e-08        pu        ce    ...       \n",
       "4  4.671053e-08  4.407895e-08  1.452953e-07        gf        ce    ...       \n",
       "\n",
       "  cat_var_33 cat_var_34 cat_var_35 cat_var_36 cat_var_37 cat_var_38  \\\n",
       "0          0          0          0          0          0          0   \n",
       "1          0          0          0          0          0          0   \n",
       "2          0          0          0          0          0          0   \n",
       "3          0          0          0          0          0          0   \n",
       "4          0          0          0          0          0          0   \n",
       "\n",
       "  cat_var_39 cat_var_40 cat_var_41 cat_var_42  \n",
       "0          0          0          0          0  \n",
       "1          0          0          0          0  \n",
       "2          0          0          0          0  \n",
       "3          0          0          0          0  \n",
       "4          0          0          0          0  \n",
       "\n",
       "[5 rows x 50 columns]"
      ]
     },
     "execution_count": 24,
     "metadata": {},
     "output_type": "execute_result"
    }
   ],
   "source": [
    "print(\"Test Dataset Shape:\")\n",
    "print(TestData.shape)\n",
    "print(\"\\n\")\n",
    "print(\"Test Dataset Columns/Features:\")\n",
    "print(TestData.dtypes)\n",
    "TestData.head()"
   ]
  },
  {
   "cell_type": "code",
   "execution_count": 25,
   "metadata": {},
   "outputs": [
    {
     "name": "stdout",
     "output_type": "stream",
     "text": [
      "Training Dataset Missing Value Columns:\n",
      "transaction_id         0\n",
      "num_var_1              0\n",
      "num_var_2              0\n",
      "num_var_3              0\n",
      "num_var_4              0\n",
      "num_var_5              0\n",
      "num_var_6              0\n",
      "num_var_7              0\n",
      "cat_var_1          15782\n",
      "cat_var_2              0\n",
      "cat_var_3          43853\n",
      "cat_var_4              0\n",
      "cat_var_5              0\n",
      "cat_var_6              0\n",
      "cat_var_7              0\n",
      "cat_var_8         109738\n",
      "cat_var_9              0\n",
      "cat_var_10             0\n",
      "cat_var_11             0\n",
      "cat_var_12             0\n",
      "cat_var_13             0\n",
      "cat_var_14             0\n",
      "cat_var_15             0\n",
      "cat_var_16             0\n",
      "cat_var_17             0\n",
      "cat_var_18             0\n",
      "cat_var_19             0\n",
      "cat_var_20             0\n",
      "cat_var_21             0\n",
      "cat_var_22             0\n",
      "cat_var_23             0\n",
      "cat_var_24             0\n",
      "cat_var_25             0\n",
      "cat_var_26             0\n",
      "cat_var_27             0\n",
      "cat_var_28             0\n",
      "cat_var_29             0\n",
      "cat_var_30             0\n",
      "cat_var_31             0\n",
      "cat_var_32             0\n",
      "cat_var_33             0\n",
      "cat_var_34             0\n",
      "cat_var_35             0\n",
      "cat_var_36             0\n",
      "cat_var_37             0\n",
      "cat_var_38             0\n",
      "cat_var_39             0\n",
      "cat_var_40             0\n",
      "cat_var_41             0\n",
      "cat_var_42             0\n",
      "target                 0\n",
      "dtype: int64\n",
      "\n",
      "\n",
      "Test Dataset Missing Value Columns:\n",
      "transaction_id        0\n",
      "num_var_1             0\n",
      "num_var_2             0\n",
      "num_var_3             0\n",
      "num_var_4             0\n",
      "num_var_5             0\n",
      "num_var_6             0\n",
      "num_var_7             0\n",
      "cat_var_1         18692\n",
      "cat_var_2             0\n",
      "cat_var_3         53362\n",
      "cat_var_4             0\n",
      "cat_var_5             0\n",
      "cat_var_6         21943\n",
      "cat_var_7             0\n",
      "cat_var_8          8138\n",
      "cat_var_9             0\n",
      "cat_var_10            0\n",
      "cat_var_11            0\n",
      "cat_var_12            0\n",
      "cat_var_13            0\n",
      "cat_var_14            0\n",
      "cat_var_15            0\n",
      "cat_var_16            0\n",
      "cat_var_17            0\n",
      "cat_var_18            0\n",
      "cat_var_19            0\n",
      "cat_var_20            0\n",
      "cat_var_21            0\n",
      "cat_var_22            0\n",
      "cat_var_23            0\n",
      "cat_var_24            0\n",
      "cat_var_25            0\n",
      "cat_var_26            0\n",
      "cat_var_27            0\n",
      "cat_var_28            0\n",
      "cat_var_29            0\n",
      "cat_var_30            0\n",
      "cat_var_31            0\n",
      "cat_var_32            0\n",
      "cat_var_33            0\n",
      "cat_var_34            0\n",
      "cat_var_35            0\n",
      "cat_var_36            0\n",
      "cat_var_37            0\n",
      "cat_var_38            0\n",
      "cat_var_39            0\n",
      "cat_var_40            0\n",
      "cat_var_41            0\n",
      "cat_var_42            0\n",
      "dtype: int64\n"
     ]
    }
   ],
   "source": [
    "# Now Checking For Any Missing Values\n",
    "print(\"Training Dataset Missing Value Columns:\")\n",
    "print(TrainData.isnull().sum())\n",
    "print(\"\\n\")\n",
    "print(\"Test Dataset Missing Value Columns:\")\n",
    "print(TestData.isnull().sum())"
   ]
  },
  {
   "cell_type": "code",
   "execution_count": 26,
   "metadata": {},
   "outputs": [],
   "source": [
    "Trans_ids = TestData['transaction_id']\n",
    "Y = TrainData['target']\n",
    "\n",
    "TrainData = TrainData.drop(['transaction_id', 'target'], axis=1)\n",
    "TestData = TestData.drop(['transaction_id'], axis=1)"
   ]
  },
  {
   "cell_type": "code",
   "execution_count": 27,
   "metadata": {},
   "outputs": [
    {
     "data": {
      "text/plain": [
       "42"
      ]
     },
     "execution_count": 27,
     "metadata": {},
     "output_type": "execute_result"
    }
   ],
   "source": [
    "# Here making a list of all categorical variables\n",
    "cat_variables = [x for x in TrainData.columns if 'cat_' in x]\n",
    "len(cat_variables)"
   ]
  },
  {
   "cell_type": "code",
   "execution_count": 28,
   "metadata": {},
   "outputs": [
    {
     "name": "stdout",
     "output_type": "stream",
     "text": [
      "cat_var_31 1\n",
      "cat_var_35 1\n",
      "cat_var_36 1\n",
      "cat_var_37 1\n",
      "cat_var_38 1\n",
      "cat_var_40 1\n",
      "cat_var_42 1\n"
     ]
    }
   ],
   "source": [
    "# Here creating a list of categorical variables which only have 1 unique value\n",
    "# I will drop these columns as they will not contribute anything towards the model\n",
    "# For Training Set\n",
    "Drop_catVar_TrainData = []\n",
    "for x in cat_variables:\n",
    "    if TrainData[x].nunique() == 1:\n",
    "        print(x, TrainData[x].nunique())\n",
    "        Drop_catVar_TrainData.append(x)"
   ]
  },
  {
   "cell_type": "code",
   "execution_count": 29,
   "metadata": {},
   "outputs": [
    {
     "name": "stdout",
     "output_type": "stream",
     "text": [
      "cat_var_38 1\n",
      "cat_var_41 1\n",
      "cat_var_42 1\n"
     ]
    }
   ],
   "source": [
    "# For Test Set\n",
    "Drop_catVar_TestData = []\n",
    "for x in cat_variables:\n",
    "    if TestData[x].nunique() == 1:\n",
    "        print(x, TestData[x].nunique())\n",
    "        Drop_catVar_TestData.append(x)"
   ]
  },
  {
   "cell_type": "code",
   "execution_count": 30,
   "metadata": {},
   "outputs": [
    {
     "name": "stdout",
     "output_type": "stream",
     "text": [
      "(348978, 41)\n",
      "(523466, 41)\n"
     ]
    }
   ],
   "source": [
    "# drop categorical features having only single value\n",
    "Drop_catVar = list(set(Drop_catVar_TrainData + Drop_catVar_TestData))\n",
    "TrainData = TrainData.drop(Drop_catVar, axis=1)\n",
    "TestData = TestData.drop(Drop_catVar, axis=1)\n",
    "\n",
    "print(TrainData.shape)\n",
    "print(TestData.shape)"
   ]
  },
  {
   "cell_type": "markdown",
   "metadata": {},
   "source": [
    "# Dropping All NaN Columns"
   ]
  },
  {
   "cell_type": "code",
   "execution_count": 31,
   "metadata": {},
   "outputs": [],
   "source": [
    "TrainData = TrainData.drop(['cat_var_3', 'cat_var_8'], axis=1)\n",
    "TestData = TestData.drop(['cat_var_3', 'cat_var_8'], axis=1)\n",
    "\n",
    "TrainData = TrainData.drop(['cat_var_1','num_var_3'], axis=1)\n",
    "TestData = TestData.drop(['cat_var_1','num_var_3'], axis=1)\n",
    "\n",
    "TrainData = TrainData.drop(['cat_var_7'], axis=1)\n",
    "TestData = TestData.drop(['cat_var_7'], axis=1)\n",
    "\n",
    "TrainData = TrainData.drop(['cat_var_16','cat_var_6'], axis=1)\n",
    "TestData = TestData.drop(['cat_var_16','cat_var_6'], axis=1)"
   ]
  },
  {
   "cell_type": "code",
   "execution_count": 32,
   "metadata": {},
   "outputs": [
    {
     "data": {
      "text/plain": [
       "28"
      ]
     },
     "execution_count": 32,
     "metadata": {},
     "output_type": "execute_result"
    }
   ],
   "source": [
    "cat_variables = [x for x in TrainData.columns if 'cat_' in x]\n",
    "len(cat_variables)"
   ]
  },
  {
   "cell_type": "code",
   "execution_count": 33,
   "metadata": {},
   "outputs": [
    {
     "name": "stdout",
     "output_type": "stream",
     "text": [
      "Training Dataset Missing Value Columns:\n",
      "num_var_1     0\n",
      "num_var_2     0\n",
      "num_var_4     0\n",
      "num_var_5     0\n",
      "num_var_6     0\n",
      "num_var_7     0\n",
      "cat_var_2     0\n",
      "cat_var_4     0\n",
      "cat_var_5     0\n",
      "cat_var_9     0\n",
      "cat_var_10    0\n",
      "cat_var_11    0\n",
      "cat_var_12    0\n",
      "cat_var_13    0\n",
      "cat_var_14    0\n",
      "cat_var_15    0\n",
      "cat_var_17    0\n",
      "cat_var_18    0\n",
      "cat_var_19    0\n",
      "cat_var_20    0\n",
      "cat_var_21    0\n",
      "cat_var_22    0\n",
      "cat_var_23    0\n",
      "cat_var_24    0\n",
      "cat_var_25    0\n",
      "cat_var_26    0\n",
      "cat_var_27    0\n",
      "cat_var_28    0\n",
      "cat_var_29    0\n",
      "cat_var_30    0\n",
      "cat_var_32    0\n",
      "cat_var_33    0\n",
      "cat_var_34    0\n",
      "cat_var_39    0\n",
      "dtype: int64\n",
      "\n",
      "\n",
      "Test Dataset Missing Value Columns:\n",
      "num_var_1     0\n",
      "num_var_2     0\n",
      "num_var_4     0\n",
      "num_var_5     0\n",
      "num_var_6     0\n",
      "num_var_7     0\n",
      "cat_var_2     0\n",
      "cat_var_4     0\n",
      "cat_var_5     0\n",
      "cat_var_9     0\n",
      "cat_var_10    0\n",
      "cat_var_11    0\n",
      "cat_var_12    0\n",
      "cat_var_13    0\n",
      "cat_var_14    0\n",
      "cat_var_15    0\n",
      "cat_var_17    0\n",
      "cat_var_18    0\n",
      "cat_var_19    0\n",
      "cat_var_20    0\n",
      "cat_var_21    0\n",
      "cat_var_22    0\n",
      "cat_var_23    0\n",
      "cat_var_24    0\n",
      "cat_var_25    0\n",
      "cat_var_26    0\n",
      "cat_var_27    0\n",
      "cat_var_28    0\n",
      "cat_var_29    0\n",
      "cat_var_30    0\n",
      "cat_var_32    0\n",
      "cat_var_33    0\n",
      "cat_var_34    0\n",
      "cat_var_39    0\n",
      "dtype: int64\n"
     ]
    }
   ],
   "source": [
    "# Now Checking For Any Missing Values\n",
    "print(\"Training Dataset Missing Value Columns:\")\n",
    "print(TrainData.isnull().sum())\n",
    "print(\"\\n\")\n",
    "print(\"Test Dataset Missing Value Columns:\")\n",
    "print(TestData.isnull().sum())"
   ]
  },
  {
   "cell_type": "code",
   "execution_count": 34,
   "metadata": {},
   "outputs": [],
   "source": [
    "# Using Label Encoder\n",
    "from sklearn.preprocessing import LabelEncoder\n",
    "for x in cat_variables:\n",
    "    TrainData[x] = TrainData[x].fillna('NaN')\n",
    "    TestData[x] = TestData[x].fillna('NaN')\n",
    "    encoder = LabelEncoder()\n",
    "    encoder.fit(list(set(list(TrainData[x]) + list(TestData[x]))))\n",
    "    TrainData[x] = encoder.transform(TrainData[x])\n",
    "    TestData[x] = encoder.transform(TestData[x])"
   ]
  },
  {
   "cell_type": "code",
   "execution_count": 35,
   "metadata": {},
   "outputs": [
    {
     "data": {
      "text/plain": [
       "(348978, 34)"
      ]
     },
     "execution_count": 35,
     "metadata": {},
     "output_type": "execute_result"
    }
   ],
   "source": [
    "TrainData.shape"
   ]
  },
  {
   "cell_type": "code",
   "execution_count": 36,
   "metadata": {},
   "outputs": [
    {
     "data": {
      "text/plain": [
       "(348978, 34)"
      ]
     },
     "execution_count": 36,
     "metadata": {},
     "output_type": "execute_result"
    }
   ],
   "source": [
    "TR_DATA = TrainData.as_matrix()\n",
    "TR_DATA.shape"
   ]
  },
  {
   "cell_type": "markdown",
   "metadata": {},
   "source": [
    "# We are using XGBoost Classifier for our Model"
   ]
  },
  {
   "cell_type": "code",
   "execution_count": 55,
   "metadata": {},
   "outputs": [
    {
     "data": {
      "text/plain": [
       "XGBClassifier(base_score=0.5, colsample_bylevel=1, colsample_bytree=1,\n",
       "       gamma=0, learning_rate=0.1, max_delta_step=0, max_depth=5,\n",
       "       min_child_weight=1, missing=None, n_estimators=370, nthread=-1,\n",
       "       objective='binary:logistic', reg_alpha=0, reg_lambda=1,\n",
       "       scale_pos_weight=1, seed=1729, silent=True, subsample=1)"
      ]
     },
     "execution_count": 55,
     "metadata": {},
     "output_type": "execute_result"
    }
   ],
   "source": [
    "eclf = xgb.XGBClassifier(n_estimators=370, max_depth = 5, seed=1729)\n",
    "eclf.fit(TR_DATA, Y)"
   ]
  },
  {
   "cell_type": "code",
   "execution_count": 56,
   "metadata": {},
   "outputs": [
    {
     "data": {
      "text/plain": [
       "0.77611512354902457"
      ]
     },
     "execution_count": 56,
     "metadata": {},
     "output_type": "execute_result"
    }
   ],
   "source": [
    "Y_pred = eclf.predict_proba(TR_DATA)\n",
    "roc_auc_score(Y, Y_pred[:,1]) "
   ]
  },
  {
   "cell_type": "code",
   "execution_count": 57,
   "metadata": {},
   "outputs": [],
   "source": [
    "Test_DATA = TestData.as_matrix()\n",
    "Y_pred_test = eclf.predict_proba(Test_DATA)"
   ]
  },
  {
   "cell_type": "code",
   "execution_count": 58,
   "metadata": {},
   "outputs": [
    {
     "data": {
      "text/html": [
       "<a href='subm-fraud.csv' target='_blank'>subm-fraud.csv</a><br>"
      ],
      "text/plain": [
       "/home/sparsh/Desktop/SocieteGenerale Brainwaves-2017/subm-fraud.csv"
      ]
     },
     "execution_count": 58,
     "metadata": {},
     "output_type": "execute_result"
    }
   ],
   "source": [
    "subm = pd.DataFrame({'transaction_id': Trans_ids, 'target': Y_pred_test[:,1]})\n",
    "subm = subm[['transaction_id','target']]    \n",
    "\n",
    "filename='subm-fraud.csv'\n",
    "subm.to_csv(filename, index=False)\n",
    "FileLink(filename)  #leaderBoard Score - 0.73465"
   ]
  }
 ],
 "metadata": {
  "kernelspec": {
   "display_name": "Python 3",
   "language": "python",
   "name": "python3"
  },
  "language_info": {
   "codemirror_mode": {
    "name": "ipython",
    "version": 3
   },
   "file_extension": ".py",
   "mimetype": "text/x-python",
   "name": "python",
   "nbconvert_exporter": "python",
   "pygments_lexer": "ipython3",
   "version": "3.5.4"
  }
 },
 "nbformat": 4,
 "nbformat_minor": 2
}
